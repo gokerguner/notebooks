{
 "cells": [
  {
   "cell_type": "markdown",
   "metadata": {},
   "source": [
    "# PY#4 - Yield vs. Return"
   ]
  },
  {
   "cell_type": "markdown",
   "metadata": {},
   "source": [
    "Merhabalar,\n",
    "Python dilinin kullanışlı özelliklerini incelediğimiz serinin dördüncü yazısında, özellikle yapay zeka alanındaki bellek yönetimi ihtiyacı sebebiyle kullanım alanı bulabilen yield kavramını ve return ifadesinden farklarını inceleyeceğiz."
   ]
  },
  {
   "cell_type": "markdown",
   "metadata": {},
   "source": [
    "Bildiğimiz üzere, bir fonksiyonun sonucunu döndürmek için **return** ifadesini kullanırız. Return ifadesi yalnızca metodun ürettiği değeri döndürür. **Yield** ise, bir değer döndürüp bulunduğu noktayı hatırlayarak, sonraki çağrıda bulunduğu noktadan sonraki değeri döndürür. \n",
    "\n",
    "Bir metod, **yield** kelimesi ile bir değer döndürüyorsa bir **generator** demektir. **Iterate** edilerek çalıştırılan bu **generator** fonksiyon, her bir değeri döndürdüğünde nerede kaldığını hatırlayarak sonraki iterasyonda kaldığı yerdeki değeri döndürür ve tekrar çağırılmayı bekler.\n",
    "\n",
    "Şimdi bu **iterasyon**, **generator** gibi kavramları örneklerle somutlaştıralım."
   ]
  },
  {
   "cell_type": "code",
   "execution_count": 3,
   "metadata": {},
   "outputs": [
    {
     "name": "stdout",
     "output_type": "stream",
     "text": [
      "[0, 1, 4, 9, 16]\n"
     ]
    }
   ],
   "source": [
    "def square_numbers(count):\n",
    "  result = []\n",
    "  for number in range(count):\n",
    "    result.append(number * number)\n",
    "  return result\n",
    "\n",
    "squared_numbers = square_numbers(5)\n",
    "print(squared_numbers)"
   ]
  },
  {
   "cell_type": "markdown",
   "metadata": {},
   "source": [
    "Bu örnek, klasik bir fonksiyon kullanımı örneği. Girdiğimiz sayıya kadar olan sayıların karesini alıp bir listeye yazıyor. Bu kodu çalıştırdığım kendi bilgisayarımda, sayı olarak 5 milyon girdğimde 1.3 saniye sürerken, 50 milyon girdiğimde ise onlarca dakika sürüyor.\n",
    "\n",
    "Bu fonksiyonun büyük boyutta bir dosyayı okumak, milyonlarca satırlık bir veriyi işlemek için kullanıldığını düşünün. Aralarındaki bir satırı işlemek için, bütün süreci beklemem gerekirdi. \n",
    "\n",
    "**Yield**, tam olarak burada işe yarar ve **yapay zeka projelerinde olduça kullanışlıdır**. Bu anahtar kelime yardımıyla bir generator oluşturabilir, ve fonksiyonun çıktısını alıp istediğimiz işleme tabi tuttuktan sonra fonksiyonun çalışmaya devam etmesini sağlayabiliriz.\n",
    "\n"
   ]
  },
  {
   "cell_type": "markdown",
   "metadata": {},
   "source": [
    "## Neden Veriyi Fonksiyonun İçinde İşlemiyoruz?\n",
    "\n",
    "Örnek basit olduğu için, burada **yield** kullanımı kafa karıştırıcı olabilir. Her bir sayıyı karesini aldıktan sonra da for döngüsünün içinde yazdırabilirdik sonuçta.\n",
    "\n",
    "Ancak çok daha büyük bir projede çalışıyor olabileceğinizi düşünün. Fonksiyonu başka bir yerden import ediyorsunuz, fonksiyonun üreteceği değeri işleme görevi sizde, import ettiğiniz fonksiyonun tek görevi de kare almak. Girilecek sayının da kontrolü sizde değil, yukarıda anlattığımız gibi belki de çok büyük sayıları işlemek gerekecek. Böyle bir durumda fonksyonun nasıl tasarlanmasını beklerdiniz?"
   ]
  },
  {
   "cell_type": "code",
   "execution_count": 6,
   "metadata": {},
   "outputs": [],
   "source": [
    "def square_numbers(count):\n",
    "    for number in range(count):\n",
    "        yield number * number"
   ]
  },
  {
   "cell_type": "markdown",
   "metadata": {},
   "source": [
    "Python 3.x için aşağıdaki şekilde çalıştıracağız. Muhtemelen denk gelmezsiniz, ancak Python 2.x ile yazmak isterseniz generator_square.next() şeklinde kullanmalısınız."
   ]
  },
  {
   "cell_type": "code",
   "execution_count": 23,
   "metadata": {},
   "outputs": [
    {
     "name": "stdout",
     "output_type": "stream",
     "text": [
      "0\n",
      "1\n",
      "4\n"
     ]
    }
   ],
   "source": [
    "generator_square = square_numbers(5)\n",
    "print(next(generator_square))\n",
    "print(next(generator_square)) \n",
    "print(next(generator_square)) \n"
   ]
  },
  {
   "cell_type": "markdown",
   "metadata": {},
   "source": [
    "Sadece üç defa itere ettiğimiz için ilk üç değeri aldı, metodun geri kalanı çalışmadı. Bu şekilde, son 2 sayıyı hiç belleğe yazmayarak, ve her bir elemanı tek tek işleyerek bellek tasarrufu sağlamış oluyoruz.\n",
    "\n",
    "Bu noktadan sonra eğer iterasyona devam etmeyecekseniz, en makul yöntem **generator**u serbest bırakmaktır. onu da basitçe aşağıdaki komutla yapabilirsiniz."
   ]
  },
  {
   "cell_type": "code",
   "execution_count": 32,
   "metadata": {},
   "outputs": [],
   "source": [
    "generator_square = None"
   ]
  },
  {
   "cell_type": "markdown",
   "metadata": {},
   "source": [
    "Sonraki yazılarımızda görüşmek üzere."
   ]
  }
 ],
 "metadata": {
  "kernelspec": {
   "display_name": "Python 3",
   "language": "python",
   "name": "python3"
  },
  "language_info": {
   "codemirror_mode": {
    "name": "ipython",
    "version": 3
   },
   "file_extension": ".py",
   "mimetype": "text/x-python",
   "name": "python",
   "nbconvert_exporter": "python",
   "pygments_lexer": "ipython3",
   "version": "3.11.6"
  }
 },
 "nbformat": 4,
 "nbformat_minor": 2
}
