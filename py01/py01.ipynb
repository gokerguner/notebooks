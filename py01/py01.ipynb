{
 "cells": [
  {
   "cell_type": "markdown",
   "metadata": {},
   "source": [
    "*__ __name__ __*, özel bir Python değişkenidir. Değerini, kendisini içeren Python betiğinin nasıl çalıştırıldığına bağlı olarak alır. file1.py ve file2.py isimli iki dosyamızın içeriğini inceleyerek başlayalım."
   ]
  },
  {
   "cell_type": "markdown",
   "metadata": {},
   "source": [
    "![title](file1.jpg)"
   ]
  },
  {
   "cell_type": "markdown",
   "metadata": {},
   "source": [
    "file1.py isimli dosyamızda, addition adında bir fonksiyon tanımlıyoruz. Bu fonksiyon, kendisine girdi olarak verilen 2 değişkenin toplamını döndürürken, kullanımını incelediğimiz  **__ name __** değişkenimizin değerini de ekrana yazdıracak."
   ]
  },
  {
   "cell_type": "markdown",
   "metadata": {},
   "source": [
    "![title](file2.jpg)"
   ]
  },
  {
   "cell_type": "markdown",
   "metadata": {},
   "source": [
    "file2.py isimli dosyamızın başında file1 dosyamızı modül olarak kullanabilmek için import ediyoruz. Ardından file1 modülümüzden addition fonksiyonunu çağırıp input olarak 2 sayı veriyoruz. Son satırda da **__ name __** değişkenimizin değerini yine ekrana bastırıyoruz. Şimdi teker teker dosyalarımızı çalıştırarak **__ name __** değişkenimizin davranışlarını inceleyelim."
   ]
  },
  {
   "cell_type": "code",
   "execution_count": 4,
   "metadata": {},
   "outputs": [
    {
     "name": "stdout",
     "output_type": "stream",
     "text": [
      "Hello, I'm file1.py\r\n"
     ]
    }
   ],
   "source": [
    "!python file1.py"
   ]
  },
  {
   "cell_type": "markdown",
   "metadata": {},
   "source": [
    "Önce file1.py dosyamızı çalıştırarak başladık. Bu dosya içerisinde addition fonksiyonuyla bir işlem yapılmadığı için bu kısmı pas geçti. Ve ekrana 'Hello, I'm file1.py' yazısını yazdı. Yani file1.py için **__ name __** değişkenimizin değerinin **__ main __** 'e eşit olduğunu görmüş olduk. Şimdi ikinci dosyamızı çalıştıralım."
   ]
  },
  {
   "cell_type": "code",
   "execution_count": 5,
   "metadata": {},
   "outputs": [
    {
     "name": "stdout",
     "output_type": "stream",
     "text": [
      "file1\r\n",
      "8\r\n",
      "__main__\r\n"
     ]
    }
   ],
   "source": [
    "!python file2.py"
   ]
  },
  {
   "cell_type": "markdown",
   "metadata": {},
   "source": [
    "Aldığımız 3 çıktıyı yakından inceleyelim.\n",
    "\n",
    "1) file2 dosyamızın dördüncü satırında, file1'e ait addition fonksiyonunu çağırdık. Bu fonksiyon ilk satırında, **__ name __** değişkeninin değerini 'file1' olarak ekrana bastırdı. \n",
    "\n",
    "2) Sonrasında fonksiyonun sonucu olan '8' i ekrana yazarak fonksiyondan çıktı. Çalışma esnasında, **__ name __** 'in değeri 'file1' olduğu için dosyanın sonundaki \"Hello, I'm file1.py\" ifadesini ekrana basmadı.\n",
    "\n",
    "3) Dosyanın 5.satırına geldiğinde yine **__ name __** değişkeninin değerini ekrana bastırdı. Ancak bu kez ilk örnekte gördüğümüz şekilde **__ main __** olarak yazdı. Aradaki fark nedir?\n",
    "\n",
    "**Fark, dosyaların çalışma şeklidir. Birinci örnekte file1 dosyamızın kendisini çalıştırdığımız için değişkenimizin değeri** **__ main __** **' e eşit oldu.** \n",
    "\n",
    "**İkinci örnekte ise file1'i dosya değil, modül olarak çalıştırdığımız için değişkenimizin değeri 'file1' e eşit oldu ve fonksiyonun sonucunu döndürdükten sonra dosyanın sonundaki ifadeyi ekrana yazmadı. Son adımda ise file2 dosyamızı, bir dosya olarak çalıştırdığımız için değişkenimizin değeri yine** **__ main __**  **'e eşit oldu.**\n",
    "\n",
    "**İkinci dosyanın sonuna da ilkine benzer bir if koşulu koyarsanız, koşulun içindeki ifadeyi ekrana yazdırdığını görebilirsiniz**"
   ]
  },
  {
   "cell_type": "markdown",
   "metadata": {},
   "source": [
    "**<span style=\"font-size:1.2em;\">Sonuç:  Bu koşullu yapı için, \"Python dosyası doğrudan mı çalışıyor yoksa import edilerek modül olarak mı kullanılıyor?\" sorusunun cevabını kontrol eder diyebiliriz. Kodumuzu doğrudan çalıştırdığımızda farklı, bir dosyaya import edip modül olarak kullandığımızda farklı çalışmasını istediğimiz senaryolarda kullanabiliriz.</span>**"
   ]
  }
 ],
 "metadata": {
  "kernelspec": {
   "display_name": "Python 3",
   "language": "python",
   "name": "python3"
  },
  "language_info": {
   "codemirror_mode": {
    "name": "ipython",
    "version": 3
   },
   "file_extension": ".py",
   "mimetype": "text/x-python",
   "name": "python",
   "nbconvert_exporter": "python",
   "pygments_lexer": "ipython3",
   "version": "3.7.6"
  }
 },
 "nbformat": 4,
 "nbformat_minor": 4
}
