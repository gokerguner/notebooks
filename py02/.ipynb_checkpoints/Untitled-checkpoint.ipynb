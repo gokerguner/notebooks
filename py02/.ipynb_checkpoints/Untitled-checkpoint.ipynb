{
 "cells": [
  {
   "cell_type": "markdown",
   "metadata": {},
   "source": [
    "# Operator Overloading Nedir?"
   ]
  },
  {
   "cell_type": "markdown",
   "metadata": {},
   "source": [
    "Merhabalar, bu yazıda bazen oldukça pratik kullanım alanları olabilen **Operator Overloading** kavramından bahsedeceğiz. Bu kavrama genellikle İngilizce olarak denk geleceğiniz için Türkçesini kullanmıyoruz.\n",
    "\n",
    "Python, oldukça geniş bir komüniteye ve zengin bir kütüphane çeşitliliğine sahip olduğu için ***neredeyse istediğiniz her şeyi yapabileceğiniz bir yazılım dilidir.*** Ancak, bu çeşitlilikler dışında dilin kendine ait kullanışlı özellikleri de vardır. **Operator Overloading**, bu özelliklerden biridir.\n",
    "\n",
    "Bu özelliği kısaca ***operatörlerin sahip olduğu özelliklere yeni özellikler eklenmesi*** olarak tanımlayabiliriz. "
   ]
  },
  {
   "cell_type": "markdown",
   "metadata": {},
   "source": [
    "İlk olarak, Python'un ***built-in*** metodlarından biri olan **dir()** fonksiyonunu kullanarak **int** veri tipinin metod ve özelliklerine yakından bakalım."
   ]
  },
  {
   "cell_type": "code",
   "execution_count": 1,
   "metadata": {},
   "outputs": [
    {
     "data": {
      "text/plain": [
       "['__abs__',\n",
       " '__add__',\n",
       " '__and__',\n",
       " '__bool__',\n",
       " '__ceil__',\n",
       " '__class__',\n",
       " '__delattr__',\n",
       " '__dir__',\n",
       " '__divmod__',\n",
       " '__doc__',\n",
       " '__eq__',\n",
       " '__float__',\n",
       " '__floor__',\n",
       " '__floordiv__',\n",
       " '__format__',\n",
       " '__ge__',\n",
       " '__getattribute__',\n",
       " '__getnewargs__',\n",
       " '__gt__',\n",
       " '__hash__',\n",
       " '__index__',\n",
       " '__init__',\n",
       " '__init_subclass__',\n",
       " '__int__',\n",
       " '__invert__',\n",
       " '__le__',\n",
       " '__lshift__',\n",
       " '__lt__',\n",
       " '__mod__',\n",
       " '__mul__',\n",
       " '__ne__',\n",
       " '__neg__',\n",
       " '__new__',\n",
       " '__or__',\n",
       " '__pos__',\n",
       " '__pow__',\n",
       " '__radd__',\n",
       " '__rand__',\n",
       " '__rdivmod__',\n",
       " '__reduce__',\n",
       " '__reduce_ex__',\n",
       " '__repr__',\n",
       " '__rfloordiv__',\n",
       " '__rlshift__',\n",
       " '__rmod__',\n",
       " '__rmul__',\n",
       " '__ror__',\n",
       " '__round__',\n",
       " '__rpow__',\n",
       " '__rrshift__',\n",
       " '__rshift__',\n",
       " '__rsub__',\n",
       " '__rtruediv__',\n",
       " '__rxor__',\n",
       " '__setattr__',\n",
       " '__sizeof__',\n",
       " '__str__',\n",
       " '__sub__',\n",
       " '__subclasshook__',\n",
       " '__truediv__',\n",
       " '__trunc__',\n",
       " '__xor__',\n",
       " 'bit_length',\n",
       " 'conjugate',\n",
       " 'denominator',\n",
       " 'from_bytes',\n",
       " 'imag',\n",
       " 'numerator',\n",
       " 'real',\n",
       " 'to_bytes']"
      ]
     },
     "execution_count": 1,
     "metadata": {},
     "output_type": "execute_result"
    }
   ],
   "source": [
    "dir(int)"
   ]
  },
  {
   "cell_type": "markdown",
   "metadata": {},
   "source": [
    "Bu yazıda, konumuz için örnek olarak ***_ _add_ _*** ve ***_ _repr_ _*** metodlarını kullanacağız. Metodların ne işe yaradığını görmek için ise **help()** fonkisyonunu aşağıdaki gibi kullanabilirsiniz."
   ]
  },
  {
   "cell_type": "code",
   "execution_count": 2,
   "metadata": {},
   "outputs": [
    {
     "name": "stdout",
     "output_type": "stream",
     "text": [
      "Help on wrapper_descriptor:\n",
      "\n",
      "__add__(self, value, /)\n",
      "    Return self+value.\n",
      "\n"
     ]
    }
   ],
   "source": [
    "help(int.__add__)"
   ]
  },
  {
   "cell_type": "markdown",
   "metadata": {},
   "source": [
    "Bu metod, bildiğimiz toplama işlemini yapar."
   ]
  },
  {
   "cell_type": "code",
   "execution_count": 3,
   "metadata": {},
   "outputs": [
    {
     "data": {
      "text/plain": [
       "8"
      ]
     },
     "execution_count": 3,
     "metadata": {},
     "output_type": "execute_result"
    }
   ],
   "source": [
    "a = 3\n",
    "a.__add__(5)"
   ]
  },
  {
   "cell_type": "markdown",
   "metadata": {},
   "source": [
    "Metodun kullanımına örnek olarak bu şekilde yazdım. Python diline başlangıç seviyesinde aşina herkesin bildiği gibi bu metodu \"3+5\" yazarak da kullanabilirdim."
   ]
  },
  {
   "cell_type": "markdown",
   "metadata": {},
   "source": [
    "***_ _repr_ _*** metodu da, **print()** fonksiyonunun çalışma şeklini, yani aldığı değişkenin nasıl gösterileceğini belirler. "
   ]
  },
  {
   "cell_type": "code",
   "execution_count": 4,
   "metadata": {},
   "outputs": [
    {
     "data": {
      "text/plain": [
       "\"'banana'\""
      ]
     },
     "execution_count": 4,
     "metadata": {},
     "output_type": "execute_result"
    }
   ],
   "source": [
    "\"banana\".__repr__()"
   ]
  },
  {
   "cell_type": "markdown",
   "metadata": {},
   "source": [
    "Bu metodlar **int** veri tipine ait metodlardır, bu yüzden **overloading** yapmak istediğimizde bunu bir **class**ın içerisinde yapmamız gerekir. Hiçbir yere ait olmadan yapmak istediğimizde;"
   ]
  },
  {
   "cell_type": "code",
   "execution_count": 5,
   "metadata": {},
   "outputs": [],
   "source": [
    "def __add__(self, other):\n",
    "    return self * other"
   ]
  },
  {
   "cell_type": "code",
   "execution_count": 6,
   "metadata": {},
   "outputs": [
    {
     "data": {
      "text/plain": [
       "8"
      ]
     },
     "execution_count": 6,
     "metadata": {},
     "output_type": "execute_result"
    }
   ],
   "source": [
    "a = 5\n",
    "a.__add__(3)"
   ]
  },
  {
   "cell_type": "markdown",
   "metadata": {},
   "source": [
    "Hiçbir etki yaratmadığını görürüz. Bu metodların aldığı **self** parametresinin bize anlatmak istediği budur, manipüle edilebilmek için bir **sınıf**a ait olmalıdır. Şimdi örnek çalışmamıza geçelim."
   ]
  },
  {
   "cell_type": "code",
   "execution_count": 7,
   "metadata": {},
   "outputs": [],
   "source": [
    "class Order:\n",
    "    def __init__(self, *args):\n",
    "        self.init_list = list()\n",
    "        self.init_list.extend([x for x in args])\n",
    "    def __add__(self, other):\n",
    "        return self.init_list.append(other)\n",
    "    def __repr__(self):\n",
    "            header = \"Order List: \"\n",
    "            txt = header + str(self.init_list)\n",
    "            return txt"
   ]
  },
  {
   "cell_type": "markdown",
   "metadata": {},
   "source": [
    "**Order** adını verdiğimiz bir ***class(sınıf)*** yaratıyoruz. Bu sınıf basitçe, bir sipariş listesi alarak oluşturulacak. Sınıfımızı ***initialize*** ederken verdiğimiz * args değişkeni sayesinde, listemiz istediğimiz uzunlukta olabilir.\n",
    "\n",
    "Ardından, **overload** etmek istediğimiz metodları tanımlıyor ve bunun ne şekilde yapılacağını belirliyoruz. Örneğin **add** metodunu kullandığımızda, eklemek istediğimiz yeni elemanı ilk listemize **\"append\"** edecek. Normalde bu işlemi yapmak istediğimizde;"
   ]
  },
  {
   "cell_type": "code",
   "execution_count": 8,
   "metadata": {},
   "outputs": [
    {
     "ename": "TypeError",
     "evalue": "can only concatenate list (not \"str\") to list",
     "output_type": "error",
     "traceback": [
      "\u001b[0;31m---------------------------------------------------------------------------\u001b[0m",
      "\u001b[0;31mTypeError\u001b[0m                                 Traceback (most recent call last)",
      "\u001b[0;32m<ipython-input-8-17be735369bc>\u001b[0m in \u001b[0;36m<module>\u001b[0;34m\u001b[0m\n\u001b[1;32m      1\u001b[0m \u001b[0morder_list\u001b[0m \u001b[0;34m=\u001b[0m \u001b[0;34m[\u001b[0m\u001b[0;34m\"apple\"\u001b[0m\u001b[0;34m,\u001b[0m \u001b[0;34m\"banana\"\u001b[0m\u001b[0;34m,\u001b[0m \u001b[0;34m\"mango\"\u001b[0m\u001b[0;34m]\u001b[0m\u001b[0;34m\u001b[0m\u001b[0;34m\u001b[0m\u001b[0m\n\u001b[0;32m----> 2\u001b[0;31m \u001b[0morder_list\u001b[0m \u001b[0;34m+\u001b[0m \u001b[0;34m\"orange\"\u001b[0m\u001b[0;34m\u001b[0m\u001b[0;34m\u001b[0m\u001b[0m\n\u001b[0m",
      "\u001b[0;31mTypeError\u001b[0m: can only concatenate list (not \"str\") to list"
     ]
    }
   ],
   "source": [
    "order_list = [\"apple\", \"banana\", \"mango\"]\n",
    "order_list + \"orange\""
   ]
  },
  {
   "cell_type": "markdown",
   "metadata": {},
   "source": [
    "Bir listeye, sadece bir listenin eklenebileceğine dair bir hata mesajı alırız. Ancak **toplama** işlemini sınıfımız içinde **overload** ederek ona bu yeteneği kazandırıyoruz.\n",
    "\n",
    "Diğer bir **overloading** işlemimiz de _ _repr_ _ metodumuzla ilgili. Yine sınıfımız içerisinde tanımladığımız metoda **header** ismiyle tanımladığımız **string** tipindeki değişkeni ekliyoruz. Böylece bu sınıfa ait bir değişkeni, yani bir sipariş listesini ekrana yazdırmak istediğimizde başına \"Order List: \" başlığını koyarak yazdıracak.\n",
    "\n",
    "Listemizi, normal bir **Python** listesi olarak ekrana yazdırmak istediğimizde;"
   ]
  },
  {
   "cell_type": "code",
   "execution_count": 9,
   "metadata": {},
   "outputs": [
    {
     "name": "stdout",
     "output_type": "stream",
     "text": [
      "['apple', 'banana', 'mango']\n"
     ]
    }
   ],
   "source": [
    "print(order_list)"
   ]
  },
  {
   "cell_type": "markdown",
   "metadata": {},
   "source": [
    "Şeklinde bir çıktı alıyoruz. Sırada **overloading** işlemlerimizin çıktılarını görmek var. Tanımladığımız sınıfa ait değişkenimizi tanımlayarak başlayalım."
   ]
  },
  {
   "cell_type": "code",
   "execution_count": 10,
   "metadata": {},
   "outputs": [],
   "source": [
    "order_list = Order(\"apple\", \"banana\", \"mango\")"
   ]
  },
  {
   "cell_type": "markdown",
   "metadata": {},
   "source": [
    "İlk **overloading** işlemimizin işe yarayıp yaramadığını görmek için, listemizin mevcut halini ekrana yazdırmayı deneyelim."
   ]
  },
  {
   "cell_type": "code",
   "execution_count": 11,
   "metadata": {},
   "outputs": [
    {
     "name": "stdout",
     "output_type": "stream",
     "text": [
      "Order List: ['apple', 'banana', 'mango']\n"
     ]
    }
   ],
   "source": [
    "print(order_list)"
   ]
  },
  {
   "cell_type": "markdown",
   "metadata": {},
   "source": [
    "Şimdi de, az önce yapmak isterken hata aldığımız işlemi tekrar yapmayı deneyelim,"
   ]
  },
  {
   "cell_type": "code",
   "execution_count": 12,
   "metadata": {},
   "outputs": [],
   "source": [
    "order_list + \"orange\""
   ]
  },
  {
   "cell_type": "code",
   "execution_count": 13,
   "metadata": {},
   "outputs": [
    {
     "data": {
      "text/plain": [
       "Order List: ['apple', 'banana', 'mango', 'orange']"
      ]
     },
     "execution_count": 13,
     "metadata": {},
     "output_type": "execute_result"
    }
   ],
   "source": [
    "order_list"
   ]
  },
  {
   "cell_type": "markdown",
   "metadata": {},
   "source": [
    "Böylece, seçtiğimiz iki metodu, tanımladığımız sınıf içerisinde değiştirerek onlara yeni yetenekler kazandırdık. Sonraki çalışmalarımızda görüşmek üzere."
   ]
  }
 ],
 "metadata": {
  "kernelspec": {
   "display_name": "Python 3",
   "language": "python",
   "name": "python3"
  },
  "language_info": {
   "codemirror_mode": {
    "name": "ipython",
    "version": 3
   },
   "file_extension": ".py",
   "mimetype": "text/x-python",
   "name": "python",
   "nbconvert_exporter": "python",
   "pygments_lexer": "ipython3",
   "version": "3.7.6"
  }
 },
 "nbformat": 4,
 "nbformat_minor": 4
}
