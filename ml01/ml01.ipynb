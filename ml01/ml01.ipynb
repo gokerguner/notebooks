{
 "cells": [
  {
   "cell_type": "markdown",
   "metadata": {},
   "source": [
    "# Machine Learning #1\n",
    "\n",
    "## Makine öğrenmesi(Makine Öğrenimi) nedir? \n",
    "Basitçe, bilgisayarlara veriden çıkarım yaparak karar alma yeteneği kazandırmak olarak tanımlayabiliriz. Bunu yaparken, veriyi uygun yollarla biçimlendirip öğrenme işlemini yapacak olan modele input(girdi) olarak vereceğiz. Bu şekilde, birtakım karmaşık problemleri, eğer elimizde yeteri kadar veri varsa öğrenme kısmını adım adım kodlamamıza gerek olmadan çözebiliriz.\n",
    "\n",
    "Örneğin: \n",
    "- Bir mailin spam olup olmadığını anlama\n",
    "- Vikipedi içeriklerini konularına göre kategorileme\n",
    "\n",
    "Birer makine öğrenimi problemi örneğidir. Makine öğrenimi temelde üçe ayrılır\n",
    "\n",
    "**(Supervised Learning) Gözetimli(denetimli) öğrenme**: Etiketlenmiş veriden çıkarım yapmayı öğrenir\n",
    "\n",
    "**(Unsupervised Learning) Gözetimsiz(denetimsiz) öğrenme**: Etiketlenmemiş veriden çıkarım yapmayı öğrenir\n",
    "\n",
    "**(Reinforcement Learning) Takviyeli(pekiştirmeli) öğrenme**: Davranışçılıktan esinlenen, öznelerin bir ortamda en yüksek ödül miktarına ulaşabilmesi için hangi eylemleri yapması gerektiğiyle ilgilenen bir makine öğrenmesi yaklaşımıdır. Her hareketin sonunda bir ödül veya ceza verilerek bir deneğin belli bir harekete ya da hareket dizisine koşullanabileceği fikrinden ortaya çıkar.\n"
   ]
  },
  {
   "cell_type": "markdown",
   "metadata": {},
   "source": [
    "Bu yazımızın konusu olan gözetimli öğrenme ile devam edelim."
   ]
  },
  {
   "cell_type": "markdown",
   "metadata": {},
   "source": [
    "## Gözetimli Öğrenme\n",
    "\n",
    "Girdi olarak verilen birtakım özelliklerden çıkarım yaparak verilmeyen hedef bir özelliği tahmin etme mantığına dayanır. **Sınıflandırma** ve **regresyon** olarak iki alt türü vardır.\n",
    "\n",
    "Sınıflandırma: Hedef değişken kategorilerden oluşur.\n",
    "\n",
    "Regresyon: Hedef değişken, kategorize edilemeyen sürekli bir veri tipindedir. Örneğin ev fiyatı tahmin eden bir regresyon modeli geliştirdiğinizde, hedef değişken olan ev fiyatı girdi olarak verdiğiniz özelliklere göre dinamik olarak değişir, kategorilendirilemez.\n",
    "\n",
    "Buraya kadarki terimleri farklı kaynaklarda farklı isimlerle görebilmeniz mümkündür. Kısaca bilgi verecek olursak,\n",
    "\n",
    "Özellikler = tahmin değişkenleri = bağımsız değişkenler\n",
    "\n",
    "Hedef değişken = bağımlı değişken = yanıt değişkeni\n"
   ]
  },
  {
   "cell_type": "markdown",
   "metadata": {},
   "source": [
    "![title](ml01/1.jpg)"
   ]
  },
  {
   "cell_type": "markdown",
   "metadata": {},
   "source": [
    "Bu tablo, makine öğrenimi alanında başlangıçta sıkça kullanılan Iris veri kümesine aittir. Burada dört adet tahmin değişkeni ve modelin bu değişkenleri öğrenerek tahmin ettiği bir adet hedef değişken görmektesiniz. Veri kümesindeki çiçeklerin taç yaprak ve çanak yapraklarına ait uzunluk ve genişlik verilerine göre fotoğrafın hangi çiçeğe ait olduğunu sınıflandıran bir model geliştirebilirsiniz. Bu veri kümesi, bizim de kullanacağımız oldukça verimli bir Python kütüphanesi olan scikit-learn kütüphanesinde yerleşik olarak bulunmaktadır. Çağırmak için,"
   ]
  },
  {
   "cell_type": "code",
   "execution_count": 117,
   "metadata": {},
   "outputs": [],
   "source": [
    "from sklearn import datasets\n",
    "iris = datasets.load_iris()"
   ]
  },
  {
   "cell_type": "markdown",
   "metadata": {},
   "source": [
    "demeniz yeterlidir. Ara bir not olarak, bu kütüphanenin dokümantasyonunu oldukça iyi buluyorum. Yerleşik olarak bulunan diğer veri kümelerini incelemek isterseniz https://scikit-learn.org/stable/datasets/index.html adresinden inceleyebilirsiniz.\n",
    "\n",
    "Bu yazıda yerleşik veri kümelerini kullanmayacağız, veri ön işlemesine**(preprocessing)** dair birkaç konuya değinmek için, harici bir kaynaktan aldığımız ancak yine kısmen hazır verilen başka bir veri kümesiyle yolumuza devam edeceğiz."
   ]
  },
  {
   "cell_type": "markdown",
   "metadata": {},
   "source": [
    "Veriyi temizlemek, işlemek ve görselleştirmek için gerekli kütüphanelerimizi dahil ederek başlayalım."
   ]
  },
  {
   "cell_type": "code",
   "execution_count": 52,
   "metadata": {},
   "outputs": [],
   "source": [
    "import numpy as np\n",
    "import pandas as pd\n",
    "import matplotlib.pyplot as plt\n",
    "import seaborn as sns"
   ]
  },
  {
   "cell_type": "markdown",
   "metadata": {},
   "source": [
    "**Numpy**: NumPy (Numerical Python) bilimsel hesaplamaları hızlı bir şekilde yapmamızı sağlayan bir matematik kütüphanesidir.\n",
    "\n",
    "**Pandas**: Veri analitiği alanında, özellikle veri işleme ve analizi için sıklıkla kullanılan bir Python paketidir. Veriyi Excel'e benzer bir tablo yapısında işlemenize olanak tanır ve CSV, Excel vb. pek çok farklı formattaki veriyi işlemeniz mümkün olabilir.\n",
    "\n",
    "**Matplotlib**: Veri görselleştirme için kullanacağımız temel Python kütüphanesidir.\n",
    "\n",
    "**Seaborn**: Matplotlib tabanlı istatistiksel bir veri görselleştirme kütüphanesidir, veri görselleştirmenin faydalarını sıradaki başlıkta göreceğiz.\n",
    "\n",
    "Buradaki kütüphanelerle neler yapılabileceğine de farklı bir yazı dizisinde daha detaylı değineceğiz. Şimdi veri kümemizi çalışma ortamına dahil edelim."
   ]
  },
  {
   "cell_type": "code",
   "execution_count": 126,
   "metadata": {},
   "outputs": [],
   "source": [
    "df = pd.read_csv('house-votes-84.data')"
   ]
  },
  {
   "cell_type": "markdown",
   "metadata": {},
   "source": [
    "Veri kümesini https://archive.ics.uci.edu/ml/datasets/Congressional+Voting+Records adresinden aldım. Bu küme, 1984 yılındaki bir Birleşik Devletler Kongre oturumundaki oylama kayıtlarını içerir. Parti üyelerinin, hangi başlıkta 'evet' veya 'hayır' oyu verdiklerine göre hangi partiye ait olduklarını tahminlemeye çalışacağız 'Democrat'(Demokrat) veya 'Republican'(Cumhuriyetçi).\n",
    "\n",
    "Buradaki aynı isimli veri setinde az sonra göreceğimiz başlıklar yok, ancak tanımlarda her bir sütunun tanımından bahsedilmiş, bir metin düzenleyicide ilk satıra bu tanımları ekledim, dosyanın düzenlenmiş haline de aşağıda paylaştığım GitHub reposundan ulaşabilirsiniz.\n",
    "\n",
    "**Pandas** kütüphanesini **pd** kısaltmasıyla dahil ettim. Bunu bu şekilde yapmak zorunda değilsiniz, hiçbir kısaltma kullanmayabileceğiniz gibi, farklı bir kısaltma ile de dahil edebilirsiniz ancak global kullanım şekillerine uymakta fayda var (Bu tip standartların yanı sıra kod yazarken dikkat etmeniz gereken bazı standartlar bile var. Örneğin değişken tanımlarken a=1 yerine a = 1 şeklinde, operatörün sağına ve soluna boşluk bırakmak gibi. Bunlara **PEP-8** standartları denir ve eğer bir **IDE** kullanıyorsanız **IDE**'niz size kodunuzu bu standartlara uygun yazmanız için yardımcı olur. Bununla ilgili de daha detaylı bir yazı kaleme alacağım. Konumuza devam edelim.)"
   ]
  },
  {
   "cell_type": "markdown",
   "metadata": {},
   "source": [
    "## Keşifsel Veri Analizi (EDA - Exploratory Data Analysis)\n",
    "\n",
    "Görsel veya nümerik yöntemlerle, veriyi bir özet üzerinden yorumlama yaklaşımıdır. Veriyi ön işleme noktasında atılması gereken adımlardan çıkarım yapmak için kullanılacak metod ve modele kadar pek çok konuda fikir sahibi olmamızı sağlar."
   ]
  },
  {
   "cell_type": "markdown",
   "metadata": {},
   "source": [
    "### Numerical EDA"
   ]
  },
  {
   "cell_type": "markdown",
   "metadata": {},
   "source": [
    "Veriyi nümerik olarak özetleme yaklaşımıdır. Bunun için birkaç tane **pandas** metodu kullanacağız."
   ]
  },
  {
   "cell_type": "code",
   "execution_count": 127,
   "metadata": {},
   "outputs": [
    {
     "name": "stdout",
     "output_type": "stream",
     "text": [
      "<class 'pandas.core.frame.DataFrame'>\n",
      "RangeIndex: 435 entries, 0 to 434\n",
      "Data columns (total 17 columns):\n",
      " #   Column                                  Non-Null Count  Dtype \n",
      "---  ------                                  --------------  ----- \n",
      " 0   party                                   435 non-null    object\n",
      " 1   handicapped-infants                     435 non-null    object\n",
      " 2   water-project-cost-sharing              435 non-null    object\n",
      " 3   adoption-of-the-budget-resolution       435 non-null    object\n",
      " 4   physician-fee-freeze                    435 non-null    object\n",
      " 5   el-salvador-aid                         435 non-null    object\n",
      " 6   religious-groups-in-schools             435 non-null    object\n",
      " 7   anti-satellite-test-ban                 435 non-null    object\n",
      " 8   aid-to-nicaraguan-contras               435 non-null    object\n",
      " 9   mx-missile                              435 non-null    object\n",
      " 10  immigration                             435 non-null    object\n",
      " 11  synfuels-corporation-cutback            435 non-null    object\n",
      " 12  education-spending                      435 non-null    object\n",
      " 13  superfund-right-to-sue                  435 non-null    object\n",
      " 14  crime                                   435 non-null    object\n",
      " 15  duty-free-exports                       435 non-null    object\n",
      " 16  export-administration-act-south-africa  435 non-null    object\n",
      "dtypes: object(17)\n",
      "memory usage: 57.9+ KB\n"
     ]
    }
   ],
   "source": [
    "df.info()"
   ]
  },
  {
   "cell_type": "markdown",
   "metadata": {},
   "source": [
    "***df.info()***, veriye dair genel bir bilgi edinmemizi sağlar. Burada özelliklerin isimlerini, kaç satır ve sütünluk bir veri kümemiz olduğunu görebiliriz. 435 satır ve 17 sütundan oluşan bir veri kümemiz var. Bu kümedeki 16 değişkeni tahminleyici olarak, 1 değişkeni(parti) ise hedef değişken olarak kullanacağız. 435x17 verinin tamamının non-null olduğunu görüyoruz ki bu önemli, çünkü numpy, pandas, scikit-learn gibi kütüphanelerin doğru çalışması için bütün verinin non-null ve aynı tipte olması gerekir."
   ]
  },
  {
   "cell_type": "code",
   "execution_count": 128,
   "metadata": {},
   "outputs": [
    {
     "data": {
      "text/html": [
       "<div>\n",
       "<style scoped>\n",
       "    .dataframe tbody tr th:only-of-type {\n",
       "        vertical-align: middle;\n",
       "    }\n",
       "\n",
       "    .dataframe tbody tr th {\n",
       "        vertical-align: top;\n",
       "    }\n",
       "\n",
       "    .dataframe thead th {\n",
       "        text-align: right;\n",
       "    }\n",
       "</style>\n",
       "<table border=\"1\" class=\"dataframe\">\n",
       "  <thead>\n",
       "    <tr style=\"text-align: right;\">\n",
       "      <th></th>\n",
       "      <th>party</th>\n",
       "      <th>handicapped-infants</th>\n",
       "      <th>water-project-cost-sharing</th>\n",
       "      <th>adoption-of-the-budget-resolution</th>\n",
       "      <th>physician-fee-freeze</th>\n",
       "      <th>el-salvador-aid</th>\n",
       "      <th>religious-groups-in-schools</th>\n",
       "      <th>anti-satellite-test-ban</th>\n",
       "      <th>aid-to-nicaraguan-contras</th>\n",
       "      <th>mx-missile</th>\n",
       "      <th>immigration</th>\n",
       "      <th>synfuels-corporation-cutback</th>\n",
       "      <th>education-spending</th>\n",
       "      <th>superfund-right-to-sue</th>\n",
       "      <th>crime</th>\n",
       "      <th>duty-free-exports</th>\n",
       "      <th>export-administration-act-south-africa</th>\n",
       "    </tr>\n",
       "  </thead>\n",
       "  <tbody>\n",
       "    <tr>\n",
       "      <th>count</th>\n",
       "      <td>435</td>\n",
       "      <td>435</td>\n",
       "      <td>435</td>\n",
       "      <td>435</td>\n",
       "      <td>435</td>\n",
       "      <td>435</td>\n",
       "      <td>435</td>\n",
       "      <td>435</td>\n",
       "      <td>435</td>\n",
       "      <td>435</td>\n",
       "      <td>435</td>\n",
       "      <td>435</td>\n",
       "      <td>435</td>\n",
       "      <td>435</td>\n",
       "      <td>435</td>\n",
       "      <td>435</td>\n",
       "      <td>435</td>\n",
       "    </tr>\n",
       "    <tr>\n",
       "      <th>unique</th>\n",
       "      <td>2</td>\n",
       "      <td>3</td>\n",
       "      <td>3</td>\n",
       "      <td>3</td>\n",
       "      <td>3</td>\n",
       "      <td>3</td>\n",
       "      <td>3</td>\n",
       "      <td>3</td>\n",
       "      <td>3</td>\n",
       "      <td>3</td>\n",
       "      <td>3</td>\n",
       "      <td>3</td>\n",
       "      <td>3</td>\n",
       "      <td>3</td>\n",
       "      <td>3</td>\n",
       "      <td>3</td>\n",
       "      <td>3</td>\n",
       "    </tr>\n",
       "    <tr>\n",
       "      <th>top</th>\n",
       "      <td>democrat</td>\n",
       "      <td>n</td>\n",
       "      <td>y</td>\n",
       "      <td>y</td>\n",
       "      <td>n</td>\n",
       "      <td>y</td>\n",
       "      <td>y</td>\n",
       "      <td>y</td>\n",
       "      <td>y</td>\n",
       "      <td>y</td>\n",
       "      <td>y</td>\n",
       "      <td>n</td>\n",
       "      <td>n</td>\n",
       "      <td>y</td>\n",
       "      <td>y</td>\n",
       "      <td>n</td>\n",
       "      <td>y</td>\n",
       "    </tr>\n",
       "    <tr>\n",
       "      <th>freq</th>\n",
       "      <td>267</td>\n",
       "      <td>236</td>\n",
       "      <td>195</td>\n",
       "      <td>253</td>\n",
       "      <td>247</td>\n",
       "      <td>212</td>\n",
       "      <td>272</td>\n",
       "      <td>239</td>\n",
       "      <td>242</td>\n",
       "      <td>207</td>\n",
       "      <td>216</td>\n",
       "      <td>264</td>\n",
       "      <td>233</td>\n",
       "      <td>209</td>\n",
       "      <td>248</td>\n",
       "      <td>233</td>\n",
       "      <td>269</td>\n",
       "    </tr>\n",
       "  </tbody>\n",
       "</table>\n",
       "</div>"
      ],
      "text/plain": [
       "           party handicapped-infants water-project-cost-sharing  \\\n",
       "count        435                 435                        435   \n",
       "unique         2                   3                          3   \n",
       "top     democrat                   n                          y   \n",
       "freq         267                 236                        195   \n",
       "\n",
       "       adoption-of-the-budget-resolution physician-fee-freeze el-salvador-aid  \\\n",
       "count                                435                  435             435   \n",
       "unique                                 3                    3               3   \n",
       "top                                    y                    n               y   \n",
       "freq                                 253                  247             212   \n",
       "\n",
       "       religious-groups-in-schools anti-satellite-test-ban  \\\n",
       "count                          435                     435   \n",
       "unique                           3                       3   \n",
       "top                              y                       y   \n",
       "freq                           272                     239   \n",
       "\n",
       "       aid-to-nicaraguan-contras mx-missile immigration  \\\n",
       "count                        435        435         435   \n",
       "unique                         3          3           3   \n",
       "top                            y          y           y   \n",
       "freq                         242        207         216   \n",
       "\n",
       "       synfuels-corporation-cutback education-spending superfund-right-to-sue  \\\n",
       "count                           435                435                    435   \n",
       "unique                            3                  3                      3   \n",
       "top                               n                  n                      y   \n",
       "freq                            264                233                    209   \n",
       "\n",
       "       crime duty-free-exports export-administration-act-south-africa  \n",
       "count    435               435                                    435  \n",
       "unique     3                 3                                      3  \n",
       "top        y                 n                                      y  \n",
       "freq     248               233                                    269  "
      ]
     },
     "execution_count": 128,
     "metadata": {},
     "output_type": "execute_result"
    }
   ],
   "source": [
    "df.describe()"
   ]
  },
  {
   "cell_type": "markdown",
   "metadata": {},
   "source": [
    "***df.describe()*** ise, info ile aldığımız genel bilgiye dair başka bir özet sunar. Her bir değişkenden kaç adet olduğu veya bu değişkenlerin değerlerinin kaça ayrıldığı gibi. **Burada dikkatimizi çeken bir nokta, 'party' için beklediğimiz gibi 2 adet (Democrat, Republican) tekil(unique) değer varken, diğer başlıklarda 3 değer var.**\n",
    "\n",
    "*Bunun anlamı, özellik değerlerinin içerisinde tipi 'null' veya 'NaN' olmasa bile ön işlemeye muhtaç verilerin olduğudur. Verileri daha yakından bakalım*"
   ]
  },
  {
   "cell_type": "code",
   "execution_count": 129,
   "metadata": {},
   "outputs": [
    {
     "data": {
      "text/html": [
       "<div>\n",
       "<style scoped>\n",
       "    .dataframe tbody tr th:only-of-type {\n",
       "        vertical-align: middle;\n",
       "    }\n",
       "\n",
       "    .dataframe tbody tr th {\n",
       "        vertical-align: top;\n",
       "    }\n",
       "\n",
       "    .dataframe thead th {\n",
       "        text-align: right;\n",
       "    }\n",
       "</style>\n",
       "<table border=\"1\" class=\"dataframe\">\n",
       "  <thead>\n",
       "    <tr style=\"text-align: right;\">\n",
       "      <th></th>\n",
       "      <th>party</th>\n",
       "      <th>handicapped-infants</th>\n",
       "      <th>water-project-cost-sharing</th>\n",
       "      <th>adoption-of-the-budget-resolution</th>\n",
       "      <th>physician-fee-freeze</th>\n",
       "      <th>el-salvador-aid</th>\n",
       "      <th>religious-groups-in-schools</th>\n",
       "      <th>anti-satellite-test-ban</th>\n",
       "      <th>aid-to-nicaraguan-contras</th>\n",
       "      <th>mx-missile</th>\n",
       "      <th>immigration</th>\n",
       "      <th>synfuels-corporation-cutback</th>\n",
       "      <th>education-spending</th>\n",
       "      <th>superfund-right-to-sue</th>\n",
       "      <th>crime</th>\n",
       "      <th>duty-free-exports</th>\n",
       "      <th>export-administration-act-south-africa</th>\n",
       "    </tr>\n",
       "  </thead>\n",
       "  <tbody>\n",
       "    <tr>\n",
       "      <th>0</th>\n",
       "      <td>republican</td>\n",
       "      <td>n</td>\n",
       "      <td>y</td>\n",
       "      <td>n</td>\n",
       "      <td>y</td>\n",
       "      <td>y</td>\n",
       "      <td>y</td>\n",
       "      <td>n</td>\n",
       "      <td>n</td>\n",
       "      <td>n</td>\n",
       "      <td>y</td>\n",
       "      <td>?</td>\n",
       "      <td>y</td>\n",
       "      <td>y</td>\n",
       "      <td>y</td>\n",
       "      <td>n</td>\n",
       "      <td>y</td>\n",
       "    </tr>\n",
       "    <tr>\n",
       "      <th>1</th>\n",
       "      <td>republican</td>\n",
       "      <td>n</td>\n",
       "      <td>y</td>\n",
       "      <td>n</td>\n",
       "      <td>y</td>\n",
       "      <td>y</td>\n",
       "      <td>y</td>\n",
       "      <td>n</td>\n",
       "      <td>n</td>\n",
       "      <td>n</td>\n",
       "      <td>n</td>\n",
       "      <td>n</td>\n",
       "      <td>y</td>\n",
       "      <td>y</td>\n",
       "      <td>y</td>\n",
       "      <td>n</td>\n",
       "      <td>?</td>\n",
       "    </tr>\n",
       "    <tr>\n",
       "      <th>2</th>\n",
       "      <td>democrat</td>\n",
       "      <td>?</td>\n",
       "      <td>y</td>\n",
       "      <td>y</td>\n",
       "      <td>?</td>\n",
       "      <td>y</td>\n",
       "      <td>y</td>\n",
       "      <td>n</td>\n",
       "      <td>n</td>\n",
       "      <td>n</td>\n",
       "      <td>n</td>\n",
       "      <td>y</td>\n",
       "      <td>n</td>\n",
       "      <td>y</td>\n",
       "      <td>y</td>\n",
       "      <td>n</td>\n",
       "      <td>n</td>\n",
       "    </tr>\n",
       "    <tr>\n",
       "      <th>3</th>\n",
       "      <td>democrat</td>\n",
       "      <td>n</td>\n",
       "      <td>y</td>\n",
       "      <td>y</td>\n",
       "      <td>n</td>\n",
       "      <td>?</td>\n",
       "      <td>y</td>\n",
       "      <td>n</td>\n",
       "      <td>n</td>\n",
       "      <td>n</td>\n",
       "      <td>n</td>\n",
       "      <td>y</td>\n",
       "      <td>n</td>\n",
       "      <td>y</td>\n",
       "      <td>n</td>\n",
       "      <td>n</td>\n",
       "      <td>y</td>\n",
       "    </tr>\n",
       "    <tr>\n",
       "      <th>4</th>\n",
       "      <td>democrat</td>\n",
       "      <td>y</td>\n",
       "      <td>y</td>\n",
       "      <td>y</td>\n",
       "      <td>n</td>\n",
       "      <td>y</td>\n",
       "      <td>y</td>\n",
       "      <td>n</td>\n",
       "      <td>n</td>\n",
       "      <td>n</td>\n",
       "      <td>n</td>\n",
       "      <td>y</td>\n",
       "      <td>?</td>\n",
       "      <td>y</td>\n",
       "      <td>y</td>\n",
       "      <td>y</td>\n",
       "      <td>y</td>\n",
       "    </tr>\n",
       "  </tbody>\n",
       "</table>\n",
       "</div>"
      ],
      "text/plain": [
       "        party handicapped-infants water-project-cost-sharing  \\\n",
       "0  republican                   n                          y   \n",
       "1  republican                   n                          y   \n",
       "2    democrat                   ?                          y   \n",
       "3    democrat                   n                          y   \n",
       "4    democrat                   y                          y   \n",
       "\n",
       "  adoption-of-the-budget-resolution physician-fee-freeze el-salvador-aid  \\\n",
       "0                                 n                    y               y   \n",
       "1                                 n                    y               y   \n",
       "2                                 y                    ?               y   \n",
       "3                                 y                    n               ?   \n",
       "4                                 y                    n               y   \n",
       "\n",
       "  religious-groups-in-schools anti-satellite-test-ban  \\\n",
       "0                           y                       n   \n",
       "1                           y                       n   \n",
       "2                           y                       n   \n",
       "3                           y                       n   \n",
       "4                           y                       n   \n",
       "\n",
       "  aid-to-nicaraguan-contras mx-missile immigration  \\\n",
       "0                         n          n           y   \n",
       "1                         n          n           n   \n",
       "2                         n          n           n   \n",
       "3                         n          n           n   \n",
       "4                         n          n           n   \n",
       "\n",
       "  synfuels-corporation-cutback education-spending superfund-right-to-sue  \\\n",
       "0                            ?                  y                      y   \n",
       "1                            n                  y                      y   \n",
       "2                            y                  n                      y   \n",
       "3                            y                  n                      y   \n",
       "4                            y                  ?                      y   \n",
       "\n",
       "  crime duty-free-exports export-administration-act-south-africa  \n",
       "0     y                 n                                      y  \n",
       "1     y                 n                                      ?  \n",
       "2     y                 n                                      n  \n",
       "3     n                 n                                      y  \n",
       "4     y                 y                                      y  "
      ]
     },
     "execution_count": 129,
     "metadata": {},
     "output_type": "execute_result"
    }
   ],
   "source": [
    "df.head()"
   ]
  },
  {
   "cell_type": "markdown",
   "metadata": {},
   "source": [
    "***df.head()*** komutu ile, varsayılan olarak ilk 5 satırdaki verileri görebiliyoruz. Eğer bu verilerde aradığımız cevabı bulamayıp daha fazla veriye ihtiyaç duyarsak komutun içerisinde istediğimiz sayıyı yazarak daha fazla miktarda veriyi görebiliriz. Örneğin; "
   ]
  },
  {
   "cell_type": "code",
   "execution_count": 130,
   "metadata": {},
   "outputs": [
    {
     "data": {
      "text/html": [
       "<div>\n",
       "<style scoped>\n",
       "    .dataframe tbody tr th:only-of-type {\n",
       "        vertical-align: middle;\n",
       "    }\n",
       "\n",
       "    .dataframe tbody tr th {\n",
       "        vertical-align: top;\n",
       "    }\n",
       "\n",
       "    .dataframe thead th {\n",
       "        text-align: right;\n",
       "    }\n",
       "</style>\n",
       "<table border=\"1\" class=\"dataframe\">\n",
       "  <thead>\n",
       "    <tr style=\"text-align: right;\">\n",
       "      <th></th>\n",
       "      <th>party</th>\n",
       "      <th>handicapped-infants</th>\n",
       "      <th>water-project-cost-sharing</th>\n",
       "      <th>adoption-of-the-budget-resolution</th>\n",
       "      <th>physician-fee-freeze</th>\n",
       "      <th>el-salvador-aid</th>\n",
       "      <th>religious-groups-in-schools</th>\n",
       "      <th>anti-satellite-test-ban</th>\n",
       "      <th>aid-to-nicaraguan-contras</th>\n",
       "      <th>mx-missile</th>\n",
       "      <th>immigration</th>\n",
       "      <th>synfuels-corporation-cutback</th>\n",
       "      <th>education-spending</th>\n",
       "      <th>superfund-right-to-sue</th>\n",
       "      <th>crime</th>\n",
       "      <th>duty-free-exports</th>\n",
       "      <th>export-administration-act-south-africa</th>\n",
       "    </tr>\n",
       "  </thead>\n",
       "  <tbody>\n",
       "    <tr>\n",
       "      <th>0</th>\n",
       "      <td>republican</td>\n",
       "      <td>n</td>\n",
       "      <td>y</td>\n",
       "      <td>n</td>\n",
       "      <td>y</td>\n",
       "      <td>y</td>\n",
       "      <td>y</td>\n",
       "      <td>n</td>\n",
       "      <td>n</td>\n",
       "      <td>n</td>\n",
       "      <td>y</td>\n",
       "      <td>?</td>\n",
       "      <td>y</td>\n",
       "      <td>y</td>\n",
       "      <td>y</td>\n",
       "      <td>n</td>\n",
       "      <td>y</td>\n",
       "    </tr>\n",
       "    <tr>\n",
       "      <th>1</th>\n",
       "      <td>republican</td>\n",
       "      <td>n</td>\n",
       "      <td>y</td>\n",
       "      <td>n</td>\n",
       "      <td>y</td>\n",
       "      <td>y</td>\n",
       "      <td>y</td>\n",
       "      <td>n</td>\n",
       "      <td>n</td>\n",
       "      <td>n</td>\n",
       "      <td>n</td>\n",
       "      <td>n</td>\n",
       "      <td>y</td>\n",
       "      <td>y</td>\n",
       "      <td>y</td>\n",
       "      <td>n</td>\n",
       "      <td>?</td>\n",
       "    </tr>\n",
       "    <tr>\n",
       "      <th>2</th>\n",
       "      <td>democrat</td>\n",
       "      <td>?</td>\n",
       "      <td>y</td>\n",
       "      <td>y</td>\n",
       "      <td>?</td>\n",
       "      <td>y</td>\n",
       "      <td>y</td>\n",
       "      <td>n</td>\n",
       "      <td>n</td>\n",
       "      <td>n</td>\n",
       "      <td>n</td>\n",
       "      <td>y</td>\n",
       "      <td>n</td>\n",
       "      <td>y</td>\n",
       "      <td>y</td>\n",
       "      <td>n</td>\n",
       "      <td>n</td>\n",
       "    </tr>\n",
       "    <tr>\n",
       "      <th>3</th>\n",
       "      <td>democrat</td>\n",
       "      <td>n</td>\n",
       "      <td>y</td>\n",
       "      <td>y</td>\n",
       "      <td>n</td>\n",
       "      <td>?</td>\n",
       "      <td>y</td>\n",
       "      <td>n</td>\n",
       "      <td>n</td>\n",
       "      <td>n</td>\n",
       "      <td>n</td>\n",
       "      <td>y</td>\n",
       "      <td>n</td>\n",
       "      <td>y</td>\n",
       "      <td>n</td>\n",
       "      <td>n</td>\n",
       "      <td>y</td>\n",
       "    </tr>\n",
       "    <tr>\n",
       "      <th>4</th>\n",
       "      <td>democrat</td>\n",
       "      <td>y</td>\n",
       "      <td>y</td>\n",
       "      <td>y</td>\n",
       "      <td>n</td>\n",
       "      <td>y</td>\n",
       "      <td>y</td>\n",
       "      <td>n</td>\n",
       "      <td>n</td>\n",
       "      <td>n</td>\n",
       "      <td>n</td>\n",
       "      <td>y</td>\n",
       "      <td>?</td>\n",
       "      <td>y</td>\n",
       "      <td>y</td>\n",
       "      <td>y</td>\n",
       "      <td>y</td>\n",
       "    </tr>\n",
       "    <tr>\n",
       "      <th>5</th>\n",
       "      <td>democrat</td>\n",
       "      <td>n</td>\n",
       "      <td>y</td>\n",
       "      <td>y</td>\n",
       "      <td>n</td>\n",
       "      <td>y</td>\n",
       "      <td>y</td>\n",
       "      <td>n</td>\n",
       "      <td>n</td>\n",
       "      <td>n</td>\n",
       "      <td>n</td>\n",
       "      <td>n</td>\n",
       "      <td>n</td>\n",
       "      <td>y</td>\n",
       "      <td>y</td>\n",
       "      <td>y</td>\n",
       "      <td>y</td>\n",
       "    </tr>\n",
       "    <tr>\n",
       "      <th>6</th>\n",
       "      <td>democrat</td>\n",
       "      <td>n</td>\n",
       "      <td>y</td>\n",
       "      <td>n</td>\n",
       "      <td>y</td>\n",
       "      <td>y</td>\n",
       "      <td>y</td>\n",
       "      <td>n</td>\n",
       "      <td>n</td>\n",
       "      <td>n</td>\n",
       "      <td>n</td>\n",
       "      <td>n</td>\n",
       "      <td>n</td>\n",
       "      <td>?</td>\n",
       "      <td>y</td>\n",
       "      <td>y</td>\n",
       "      <td>y</td>\n",
       "    </tr>\n",
       "    <tr>\n",
       "      <th>7</th>\n",
       "      <td>republican</td>\n",
       "      <td>n</td>\n",
       "      <td>y</td>\n",
       "      <td>n</td>\n",
       "      <td>y</td>\n",
       "      <td>y</td>\n",
       "      <td>y</td>\n",
       "      <td>n</td>\n",
       "      <td>n</td>\n",
       "      <td>n</td>\n",
       "      <td>n</td>\n",
       "      <td>n</td>\n",
       "      <td>n</td>\n",
       "      <td>y</td>\n",
       "      <td>y</td>\n",
       "      <td>?</td>\n",
       "      <td>y</td>\n",
       "    </tr>\n",
       "    <tr>\n",
       "      <th>8</th>\n",
       "      <td>republican</td>\n",
       "      <td>n</td>\n",
       "      <td>y</td>\n",
       "      <td>n</td>\n",
       "      <td>y</td>\n",
       "      <td>y</td>\n",
       "      <td>y</td>\n",
       "      <td>n</td>\n",
       "      <td>n</td>\n",
       "      <td>n</td>\n",
       "      <td>n</td>\n",
       "      <td>n</td>\n",
       "      <td>y</td>\n",
       "      <td>y</td>\n",
       "      <td>y</td>\n",
       "      <td>n</td>\n",
       "      <td>y</td>\n",
       "    </tr>\n",
       "    <tr>\n",
       "      <th>9</th>\n",
       "      <td>democrat</td>\n",
       "      <td>y</td>\n",
       "      <td>y</td>\n",
       "      <td>y</td>\n",
       "      <td>n</td>\n",
       "      <td>n</td>\n",
       "      <td>n</td>\n",
       "      <td>y</td>\n",
       "      <td>y</td>\n",
       "      <td>y</td>\n",
       "      <td>n</td>\n",
       "      <td>n</td>\n",
       "      <td>n</td>\n",
       "      <td>n</td>\n",
       "      <td>n</td>\n",
       "      <td>?</td>\n",
       "      <td>?</td>\n",
       "    </tr>\n",
       "  </tbody>\n",
       "</table>\n",
       "</div>"
      ],
      "text/plain": [
       "        party handicapped-infants water-project-cost-sharing  \\\n",
       "0  republican                   n                          y   \n",
       "1  republican                   n                          y   \n",
       "2    democrat                   ?                          y   \n",
       "3    democrat                   n                          y   \n",
       "4    democrat                   y                          y   \n",
       "5    democrat                   n                          y   \n",
       "6    democrat                   n                          y   \n",
       "7  republican                   n                          y   \n",
       "8  republican                   n                          y   \n",
       "9    democrat                   y                          y   \n",
       "\n",
       "  adoption-of-the-budget-resolution physician-fee-freeze el-salvador-aid  \\\n",
       "0                                 n                    y               y   \n",
       "1                                 n                    y               y   \n",
       "2                                 y                    ?               y   \n",
       "3                                 y                    n               ?   \n",
       "4                                 y                    n               y   \n",
       "5                                 y                    n               y   \n",
       "6                                 n                    y               y   \n",
       "7                                 n                    y               y   \n",
       "8                                 n                    y               y   \n",
       "9                                 y                    n               n   \n",
       "\n",
       "  religious-groups-in-schools anti-satellite-test-ban  \\\n",
       "0                           y                       n   \n",
       "1                           y                       n   \n",
       "2                           y                       n   \n",
       "3                           y                       n   \n",
       "4                           y                       n   \n",
       "5                           y                       n   \n",
       "6                           y                       n   \n",
       "7                           y                       n   \n",
       "8                           y                       n   \n",
       "9                           n                       y   \n",
       "\n",
       "  aid-to-nicaraguan-contras mx-missile immigration  \\\n",
       "0                         n          n           y   \n",
       "1                         n          n           n   \n",
       "2                         n          n           n   \n",
       "3                         n          n           n   \n",
       "4                         n          n           n   \n",
       "5                         n          n           n   \n",
       "6                         n          n           n   \n",
       "7                         n          n           n   \n",
       "8                         n          n           n   \n",
       "9                         y          y           n   \n",
       "\n",
       "  synfuels-corporation-cutback education-spending superfund-right-to-sue  \\\n",
       "0                            ?                  y                      y   \n",
       "1                            n                  y                      y   \n",
       "2                            y                  n                      y   \n",
       "3                            y                  n                      y   \n",
       "4                            y                  ?                      y   \n",
       "5                            n                  n                      y   \n",
       "6                            n                  n                      ?   \n",
       "7                            n                  n                      y   \n",
       "8                            n                  y                      y   \n",
       "9                            n                  n                      n   \n",
       "\n",
       "  crime duty-free-exports export-administration-act-south-africa  \n",
       "0     y                 n                                      y  \n",
       "1     y                 n                                      ?  \n",
       "2     y                 n                                      n  \n",
       "3     n                 n                                      y  \n",
       "4     y                 y                                      y  \n",
       "5     y                 y                                      y  \n",
       "6     y                 y                                      y  \n",
       "7     y                 ?                                      y  \n",
       "8     y                 n                                      y  \n",
       "9     n                 ?                                      ?  "
      ]
     },
     "execution_count": 130,
     "metadata": {},
     "output_type": "execute_result"
    }
   ],
   "source": [
    "df.head(10)"
   ]
  },
  {
   "cell_type": "markdown",
   "metadata": {},
   "source": [
    "Diyerek ilk 10 satırı görmüş olduk. Dikkatimizi çekmesi gereken nokta, bazı değerlerin '?' şeklinde verildiğidir. Bir sonraki adımda bu analizi görsel olarak da yaptıktan sonra bu konuya eğileceğiz."
   ]
  },
  {
   "cell_type": "markdown",
   "metadata": {},
   "source": [
    "### Visual EDA"
   ]
  },
  {
   "cell_type": "markdown",
   "metadata": {},
   "source": [
    "Bir önceki adımda nümerik olarak gördüğümüz veri kümemize bu adımda da görsel olarak bakalım. Örneğin 'immigration' konusunda kullanılan oyların dağılımına bakalım.  "
   ]
  },
  {
   "cell_type": "code",
   "execution_count": 131,
   "metadata": {},
   "outputs": [
    {
     "data": {
      "image/png": "[encoded data removed]",
      "text/plain": [
       "<Figure size 432x288 with 1 Axes>"
      ]
     },
     "metadata": {
      "needs_background": "light"
     },
     "output_type": "display_data"
    }
   ],
   "source": [
    "plt.figure()\n",
    "sns.countplot(x='immigration', hue='party', data=df, palette='RdBu')\n",
    "plt.xticks([0,1], ['No', 'Yes'])\n",
    "plt.show()"
   ]
  },
  {
   "cell_type": "markdown",
   "metadata": {},
   "source": [
    "Bir önceki adımda elde ettiğimiz bilgiyi doğrular bir şekilde, 'evet' veya 'hayır' dışında üçüncü bir oy şekli daha görüyoruz. Bu da çözmemiz gereken '?' şeklindeki verilerdir. Bu problemi çözebilmek için scikit-learn kütüphanesinin ***SimpleImputer*** metodundan yararlanacağız."
   ]
  },
  {
   "cell_type": "code",
   "execution_count": 132,
   "metadata": {},
   "outputs": [],
   "source": [
    "from sklearn.impute import SimpleImputer\n",
    "imputer = SimpleImputer(missing_values='?', strategy='most_frequent')"
   ]
  },
  {
   "cell_type": "markdown",
   "metadata": {},
   "source": [
    "***SimpleImputer*** objesinden ***imputer*** ismini verdiğimiz bir değişken yarattık. missing_values parametresine, kayıp değer olarak kabul ettiğimiz ve değiştirmek istediğimiz '?' string değerini verdik. Bu parametrenin varsayılanı \"NaN\"'dır(Not a Number). strategy parametresini de ***'most_frequent'*** olarak belirledik. Böylelikle, '?' ile belirtilmiş değerler o sütunda hangi değer en çoksa ona eşitlenecek(yani sıklığına göre eğer 'hayır' oyları en fazlaysa 'n' veya 'evet' oyları en fazlaysa 'y').\n",
    "\n",
    "**Not:** Kendi araştırmalarınızda, internette bazı kaynaklarda bu işlem için *from sklearn.preprocessing import Imputer* şeklinde bir çağırma yapıldığını görebilirsiniz. Ancak bu metod yeni versiyonda kaldırılmış ve yerini bizim kullandığımız sklearn.impute.SimpleImputer metoduna bırakmıştır."
   ]
  },
  {
   "cell_type": "markdown",
   "metadata": {},
   "source": [
    "![title](2.jpg)"
   ]
  },
  {
   "cell_type": "markdown",
   "metadata": {},
   "source": [
    "***missing_values*** ve ***strategy*** parametrelerinin hangi değerleri alabildiğini ve bu değerlerin ne anlama geldiğini burada görebilirsiniz. Metodun diğer parametreleri için; https://scikit-learn.org/stable/modules/generated/sklearn.impute.SimpleImputer.html adresinden orjinal dokümantasyonu okuyup örnekleri inceleyebilirsiniz."
   ]
  },
  {
   "cell_type": "markdown",
   "metadata": {},
   "source": [
    "Sırada modelimizi belirlemek ve eğitmek var. Bu bir sınıflandırma problemi olduğu için k-NN(k-Nearest Neighbours /k-En Yakın Komşuluk) algoritmasını bu problemin çözümü için kullanabiliriz. Bu algoritmanın çalışma prensiplerine değinecek olursak;\n",
    "\n",
    "**En yakın k noktanın sınıflarına bakar,**\n",
    "\n",
    "**Bu k adet noktanın çoğunluğu hangi sınıfa aitse, incelediği noktanın sınıfını da o sınıf olarak belirler.** \n",
    "\n",
    "Görseller üzerinden gidecek olursak,"
   ]
  },
  {
   "cell_type": "markdown",
   "metadata": {},
   "source": [
    "![title](3.jpg)"
   ]
  },
  {
   "cell_type": "markdown",
   "metadata": {},
   "source": [
    "Elimizde kırmızı ve yeşil noktalardan oluşan bir veri kümesi olduğunu düşünelim. Ve hangi sınıfa ait olduğunu henüz bilmediğimiz de bir noktamız var. k parametremizin değerini 3 olarak belirlersek"
   ]
  },
  {
   "cell_type": "markdown",
   "metadata": {},
   "source": [
    "![title](4.jpg)"
   ]
  },
  {
   "cell_type": "markdown",
   "metadata": {},
   "source": [
    "Algoritmamız bu en yakın 3 noktaya bakar, çoğunluğun kırmızı olduğunu görür ve rengi atanmamış noktaya da kırmızı rengi değer olarak atar. Eğer k değerimizi 5 olarak seçersek"
   ]
  },
  {
   "cell_type": "markdown",
   "metadata": {},
   "source": [
    "![title](5.jpg)"
   ]
  },
  {
   "cell_type": "markdown",
   "metadata": {},
   "source": [
    "Bu kez çoğunluk yeşil renkte olduğu için algoritmamız aradığımız sınıfın yeşil olduğuna karar verecektir."
   ]
  },
  {
   "cell_type": "markdown",
   "metadata": {},
   "source": [
    "![title](6.jpg)"
   ]
  },
  {
   "cell_type": "markdown",
   "metadata": {},
   "source": [
    "kNN algoritması eğitim kümesini inceler, tahmin yapmak için ,tüm veri kümesindeki en yakın komşuları arar. Şimdi algoritmamızı çalışma ortamımıza dahil edelim."
   ]
  },
  {
   "cell_type": "code",
   "execution_count": 133,
   "metadata": {},
   "outputs": [],
   "source": [
    "from sklearn.neighbors import KNeighborsClassifier\n",
    "knn_model = KNeighborsClassifier(n_neighbors=2)"
   ]
  },
  {
   "cell_type": "markdown",
   "metadata": {},
   "source": [
    "Yine ***scikit-learn*** kütüphanesi kullanarak kNN algoritmamızı çağırdık ve karar verirken kullanacağı komşuluk değerini gösteren ***n_neighbors*** parametresini 2 olarak belirleyerek knn_model adını verdiğimiz değişkeni tanımladık. Şimdi sıra geldi adımlarımızı oluşturmaya."
   ]
  },
  {
   "cell_type": "code",
   "execution_count": 109,
   "metadata": {},
   "outputs": [],
   "source": [
    "steps = [('imputation', imputer),\n",
    "('knn', knn_model)]"
   ]
  },
  {
   "cell_type": "markdown",
   "metadata": {},
   "source": [
    "Bu şekilde, adımlarımızı Python tuple'larından oluşan bir liste şeklinde kümelemiş olduk. Tanımlamış olduğumuz ***steps*** değişkenini tahminleme sürecini adım adım kodlamak yerine bir ***pipeline*** oluşturmak için kullanacağız."
   ]
  },
  {
   "cell_type": "code",
   "execution_count": 134,
   "metadata": {},
   "outputs": [],
   "source": [
    "from sklearn.pipeline import Pipeline\n",
    "pipeline = Pipeline(steps)"
   ]
  },
  {
   "cell_type": "markdown",
   "metadata": {},
   "source": [
    "***sklearn.pipeline*** metodunu kullanarak algoritmanızı, parametrelerinizi, veri önişleme adımlarınızı tek bir değişken (bizim ***steps*** adını verdiğimiz) içerisinde gruplayarak daha derli toplu kod yazabilirsiniz."
   ]
  },
  {
   "cell_type": "markdown",
   "metadata": {},
   "source": [
    "Gelelim elimizdeki veri kümesinden eğitim ve test kümeleri oluşturmaya. Bunun için ***train_test_split*** metodunu kullanacağız. Ayrıca 'party' özelliğini hedef, diğer özellikleri ise tahminleyici olarak belirleyeceğiz."
   ]
  },
  {
   "cell_type": "code",
   "execution_count": 139,
   "metadata": {},
   "outputs": [],
   "source": [
    "from sklearn.model_selection import train_test_split\n",
    "y = df['party'].values\n",
    "X = df.drop('party', axis=1).values\n",
    "X_train, X_test, y_train, y_test = train_test_split(X, y, test_size=0.3, random_state=42)\n",
    "df[df == 'n'] = 0\n",
    "df[df == 'y'] = 1"
   ]
  },
  {
   "cell_type": "markdown",
   "metadata": {},
   "source": [
    "Veri kümemizdeki her bir verinin 'party' değerlerini ***y*** değişkenine atadık. Ardından veri kümemizden bu değerleri düşürerek geri kalan değerleri ***X*** değişkenine atadık. Böylelikle tahminleyici ve hedef değişkenlerimizi oluşturmuş olduk.\n",
    "\n",
    "Ardından train_test_split metodunu kullanarak verimizi train ve test olarak ikiye ayırdık. Ayırırken, ***test_size*** parametresiyle test kümemizin büyüklüğünü tüm verinin %30'u olarak belirledik. Geri kalanı da eğitim(train) verisi olarak ayırmış olduk. \n",
    "\n",
    "***random_state*** için, basitçe veriyi bölmeden önce karıştırma(shuffle) için kullandığımız bir tam sayı parametresi. Daha fazla bilgi için yine dokümanı inceleyebilirsiniz, incelediğiniz eğitim, doküman vb. genellikle bu parametrenin 42'ye eşitlendiğini görürsünüz.\n",
    "\n",
    "Son olarak bilmemiz gereken başka bir kritik nokta da, modelimizin/algoritmamızın ***string*** tipinde verileri işleyemeyeceğidir. kNN algortimasının görsel anlatımında da gördüğümüz gibi, tüm işleyiş vektör uzayındaki bir uzaklık hesabına(Öklid uzaklığı) dayanır. Veri kümemizdeki her bir noktayı matematiksel olarak modelleyebilmek için, 'n' ve 'y' olarak verilmiş değerleri 0 ve 1'e değiştiriyoruz. Biraz daha popüler Python kütüphanelerine ve uygulamalara değinmek istediğim için matematiksel anlatımlara bu yazı serisinde çok fazla yer vermeyeceğim. Sırada algoritmanın veriyi öğrenmesi ve çıkarım yapması var."
   ]
  },
  {
   "cell_type": "code",
   "execution_count": 137,
   "metadata": {},
   "outputs": [
    {
     "data": {
      "text/plain": [
       "0.9236641221374046"
      ]
     },
     "execution_count": 137,
     "metadata": {},
     "output_type": "execute_result"
    }
   ],
   "source": [
    "from sklearn.metrics import accuracy_score\n",
    "knn_pipeline = pipeline.fit(X_train, y_train)\n",
    "y_pred = pipeline.predict(X_test)\n",
    "accuracy_score(y_test, y_pred)"
   ]
  },
  {
   "cell_type": "markdown",
   "metadata": {},
   "source": [
    "Verinin ön işlenmesi ve öğrenme aşamalarıyla bir ***pipeline*** oluşturmuştuk. Bu noktada ***pipeline*** kullanmadan çalışmak isterseniz ***knn_model.fit()*** metoduyla direkt modelin veriden çıkarım yapmasını da sağlayabilirsiniz. Bu durumda önceki aşamaları adım adım kodlamanız gerekeceğini unutmayın.\n",
    "\n",
    "Ardından ***predict*** metoduna test için ayırdığımız girdi kümesini vererek ***tahminleme*** yapmasını sağlıyoruz. Son olarak yine ***scikit-learn*** kütüphanesinden dahil ettiğimiz ***accuracy_score*** metodunu kullanarak başarım oranımızın yaklaşık **%92.37** olduğunu görebiliriz. \n",
    "\n",
    "**Peki, bu oranı daha da yükseltebilmek için neler yapabiliriz? Başarımımızın olabileceğinden daha düşük olmasına ne sebep olmuş olabilir?**\n",
    "\n",
    "Dikkat etmemiz gereken ilk nokta, ***n_neihgbors*** parametresinin **2** olarak seçilmiş olması. Bu parametrenin daha yüksek olması, belki de daha yüksek bir skor elde etmemizi sağlayabilirdi.\n",
    "\n",
    "İkinci nokta ise, train/test olarak ayrılan veri. Biz, verinin %30'unu test verisi olarak ayırmıştık, ancak ayrılan verinin rastgele olarak seçildiğini unutmayın. Belki de, farklı %30'u test verisi olarak belirlemiş olsaydık, yani daha farklı bir %70 ile algoritmamızı eğitseydik sonuç daha farklı olacaktı. **Bu iki problemi nasıl çözebiliriz?**"
   ]
  },
  {
   "cell_type": "markdown",
   "metadata": {},
   "source": [
    "![title](7.jpg)"
   ]
  },
  {
   "cell_type": "markdown",
   "metadata": {},
   "source": [
    "İlk tekniğimiz **cross-validation(çapraz doğrulama)**. Bu teknik, her bir adımda farklı bir train/test ayrımının yapılmasını ve en iyi öğrenmenin seçilmesine dayanır. Örnek olarak, train/test verisinin 80/20 oranında ayrıldığı bir gösterimi temel aldım. her ayrımda(split) train/test kümelerini farklı farklı seçerek bir ölçüm(metric) alıyoruz. Bu ayrımlardan hangisi en yüksek skorlu ise, ayrımımızı o olarak seçiyoruz.\n",
    "\n",
    "Bu tekniğimizi birleştireceğimiz asıl teknik ise **grid search cross-validation**. Veri kümemizi **grid**lere ayırarak her bir adımda sadece train/test kümesini farklı ayırmakla kalmıyor, aynı zamanda farklı bir ***n_neighbor*** parametresiyle deniyoruz. Bu tekniğin Python implementasyonunu ***sklearn.model_selection.GridSearchCV*** ile yapacağız."
   ]
  },
  {
   "cell_type": "code",
   "execution_count": 140,
   "metadata": {},
   "outputs": [],
   "source": [
    "from sklearn.model_selection import GridSearchCV\n",
    "parameters = {'knn__n_neighbors': np.arange(1, 50)}\n",
    "cv = GridSearchCV(pipeline, param_grid=parameters, cv=5) "
   ]
  },
  {
   "cell_type": "markdown",
   "metadata": {},
   "source": [
    "**knn** algoritmasına ait ***n_neighbors*** parametresine, ***numpy*** kütüphanesinin yardımıyla **1**'den **50**'ye kadar değer vereceğiz. Farklı bir algoritmanın farklı bir parametresini kullanmak isterseniz **'modelname__parameter'** şeklinde yazmalısınız. ***GridSearchCV*** metoduna önce ***pipeline***'ımızı, daha sonra da ***param_grid*** parametresine değer olarak **Python sözlüğü(dictionary)** tipinde oluşturduğumuz ***parameters*** değişkenimizi atadık. ***cv*** parametresine train/test ayrımımızı kaç farklı şekilde yapmak istediğimizi de girerek, tekrar fit aşamasına geri dönüyoruz."
   ]
  },
  {
   "cell_type": "code",
   "execution_count": 141,
   "metadata": {},
   "outputs": [
    {
     "name": "stdout",
     "output_type": "stream",
     "text": [
      "Tuned KNN Parameters: {'knn__n_neighbors': 6}\n",
      "Best score is 0.9375956284153005\n"
     ]
    }
   ],
   "source": [
    "cv.fit(X_train, y_train)\n",
    "print(\"Tuned KNN Parameters: {}\".format(cv.best_params_)) \n",
    "print(\"Best score is {}\".format(cv.best_score_))"
   ]
  },
  {
   "cell_type": "markdown",
   "metadata": {},
   "source": [
    "Burada algoritmamız her bir ***n_neighbor*** değeri için veriyi 5 farklı şekilde işleyerek çalıştı, en iyi parametreyi ve skoru belirledi. ***cv.best_params_*** metoduyla en iyi ***n_neighbor*** değerinin **6** olduğunu, ***cv.best_score_*** ile de en iyi skorumuzun yaklaşık **%93.76** olduğunu gördük.\n",
    "\n",
    "**Machine Learning** yazı dizisinin sonraki konularında farklı problemlere farklı **ML** yaklaşımlarını, başarımı ölçmek için kullanılabilecek farklı metodları inceleyeceğiz. Faydalı olması dileklerimle."
   ]
  },
  {
   "cell_type": "markdown",
   "metadata": {},
   "source": [
    "## Kaynaklar\n",
    "https://archive.ics.uci.edu/ml/datasets/\n",
    "\n",
    "https://scikit-learn.org/stable/index.html"
   ]
  }
 ],
 "metadata": {
  "kernelspec": {
   "display_name": "Python 3",
   "language": "python",
   "name": "python3"
  },
  "language_info": {
   "codemirror_mode": {
    "name": "ipython",
    "version": 3
   },
   "file_extension": ".py",
   "mimetype": "text/x-python",
   "name": "python",
   "nbconvert_exporter": "python",
   "pygments_lexer": "ipython3",
   "version": "3.7.6"
  }
 },
 "nbformat": 4,
 "nbformat_minor": 4
}
