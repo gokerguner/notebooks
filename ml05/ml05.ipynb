{
 "cells": [
  {
   "cell_type": "markdown",
   "metadata": {},
   "source": [
    "# Machine Learning 5 - Lineer Sınıflandırıcılar, Lojistik Regresyon, SVM"
   ]
  },
  {
   "cell_type": "markdown",
   "metadata": {},
   "source": [
    "Merhabalar, Machine Learning serimizin beşincisinde;\n",
    "* Doğrusal sınıflandırıcıları tanıyacak,\n",
    "* Lojistik regresyon ve SVM kavramlarını örneklendirerek inceleyeceğiz."
   ]
  },
  {
   "cell_type": "code",
   "execution_count": 1,
   "metadata": {},
   "outputs": [],
   "source": [
    "import numpy as np\n",
    "import pandas as pd\n",
    "import matplotlib.pyplot as plt\n",
    "import seaborn as sns\n",
    "from sklearn.model_selection import train_test_split\n",
    "from sklearn.linear_model import LogisticRegression\n",
    "from sklearn.metrics import (\n",
    "    accuracy_score,\n",
    "    confusion_matrix,\n",
    "    precision_score,\n",
    "    recall_score,\n",
    "    RocCurveDisplay,\n",
    ")\n",
    "from sklearn.model_selection import RandomizedSearchCV\n",
    "from sklearn.preprocessing import StandardScaler"
   ]
  },
  {
   "cell_type": "markdown",
   "metadata": {},
   "source": [
    "## Doğrusal Sınıflandırma Nedir?"
   ]
  },
  {
   "cell_type": "markdown",
   "metadata": {},
   "source": [
    "Yazı dizimizin üçüncüsünde, **Doğrusal Regresyon** konusuna değinmiştik. Sonrasında da bu metodu, bir ev fiyatı tahminleyicisi oluşturmak için kullanmıştık. **Doğrusal(Lineer) Regresyon** ile **Mantıksal(Lojistik) Regresyon** kavramları birbirine karıştırılmamalıdır.\n",
    "\n",
    "**Lojistik Regresyon**, bir **Doğrusal Sınıflandırıcı**'dır. Bir sınıfı belirleyen bir veya daha fazla bağımsız değişken bulunan bir veri kümesini analiz etmek için kullanılan istatistiksel bir yöntemdir. Sonuç, ikili bir değişkenle ölçülür (yalnızca iki olası sonuç vardır). O örnek, aradığımız sınıfa aittir veya değildir(Diğer sınıflardan birine aittir)."
   ]
  },
  {
   "cell_type": "markdown",
   "metadata": {},
   "source": [
    "## Karar Sınırı, Doğrusal Sınıflandırıcı, Doğrusal Ayrılabilirlik"
   ]
  },
  {
   "cell_type": "markdown",
   "metadata": {},
   "source": [
    "Teorik anlatıma devam etmeden önce, bir **Doğrusal Sınıflandırıcı** görsel olarak neye benzer, nasıl çalışır bunu görelim."
   ]
  },
  {
   "cell_type": "code",
   "execution_count": 2,
   "metadata": {},
   "outputs": [
    {
     "ename": "NameError",
     "evalue": "name 'np' is not defined",
     "output_type": "error",
     "traceback": [
      "\u001b[0;31m---------------------------------------------------------------------------\u001b[0m",
      "\u001b[0;31mNameError\u001b[0m                                 Traceback (most recent call last)",
      "\u001b[1;32m/workspaces/notebooks/ml05/ml05.ipynb Cell 8\u001b[0m in \u001b[0;36m<cell line: 10>\u001b[0;34m()\u001b[0m\n\u001b[1;32m      <a href='vscode-notebook-cell://codespaces%2Bgokerguner-notebooks-5xvjw99vcpg47/workspaces/notebooks/ml05/ml05.ipynb#ch0000009vscode-remote?line=7'>8</a>\u001b[0m min2, max2 \u001b[39m=\u001b[39m X_example[:, \u001b[39m1\u001b[39m]\u001b[39m.\u001b[39mmin()\u001b[39m-\u001b[39m\u001b[39m1\u001b[39m, X_example[:, \u001b[39m1\u001b[39m]\u001b[39m.\u001b[39mmax()\u001b[39m+\u001b[39m\u001b[39m1\u001b[39m\n\u001b[1;32m      <a href='vscode-notebook-cell://codespaces%2Bgokerguner-notebooks-5xvjw99vcpg47/workspaces/notebooks/ml05/ml05.ipynb#ch0000009vscode-remote?line=8'>9</a>\u001b[0m \u001b[39m# define the x and y scale\u001b[39;00m\n\u001b[0;32m---> <a href='vscode-notebook-cell://codespaces%2Bgokerguner-notebooks-5xvjw99vcpg47/workspaces/notebooks/ml05/ml05.ipynb#ch0000009vscode-remote?line=9'>10</a>\u001b[0m x1grid \u001b[39m=\u001b[39m np\u001b[39m.\u001b[39marange(min1, max1, \u001b[39m0.1\u001b[39m)\n\u001b[1;32m     <a href='vscode-notebook-cell://codespaces%2Bgokerguner-notebooks-5xvjw99vcpg47/workspaces/notebooks/ml05/ml05.ipynb#ch0000009vscode-remote?line=10'>11</a>\u001b[0m x2grid \u001b[39m=\u001b[39m np\u001b[39m.\u001b[39marange(min2, max2, \u001b[39m0.1\u001b[39m)\n\u001b[1;32m     <a href='vscode-notebook-cell://codespaces%2Bgokerguner-notebooks-5xvjw99vcpg47/workspaces/notebooks/ml05/ml05.ipynb#ch0000009vscode-remote?line=11'>12</a>\u001b[0m \u001b[39m# create all of the lines and rows of the grid\u001b[39;00m\n",
      "\u001b[0;31mNameError\u001b[0m: name 'np' is not defined"
     ]
    }
   ],
   "source": [
    "# https://scikit-learn.org/stable/modules/generated/sklearn.datasets.make_blobs.html\n",
    "\n",
    "from sklearn.datasets import make_blobs\n",
    "# generate dataset\n",
    "X_example, y_example = make_blobs(n_samples=1000, centers=2, n_features=2, random_state=1, cluster_std=3)\n",
    "# define bounds of the domain\n",
    "min1, max1 = X_example[:, 0].min()-1, X_example[:, 0].max()+1\n",
    "min2, max2 = X_example[:, 1].min()-1, X_example[:, 1].max()+1\n",
    "# define the x and y scale\n",
    "x1grid = np.arange(min1, max1, 0.1)\n",
    "x2grid = np.arange(min2, max2, 0.1)\n",
    "# create all of the lines and rows of the grid\n",
    "xx, yy = np.meshgrid(x1grid, x2grid)\n",
    "# flatten each grid to a vector\n",
    "r1, r2 = xx.flatten(), yy.flatten()\n",
    "r1, r2 = r1.reshape((len(r1), 1)), r2.reshape((len(r2), 1))\n",
    "# horizontal stack vectors to create x1,x2 input for the model\n",
    "grid = np.hstack((r1,r2))\n",
    "# define the model\n",
    "model = LogisticRegression()\n",
    "# fit the model\n",
    "model.fit(X_example, y_example)\n",
    "# make predictions for the grid\n",
    "yhat = model.predict(grid)\n",
    "# reshape the predictions back into a grid\n",
    "zz = yhat.reshape(xx.shape)\n",
    "# plot the grid of x, y and z values as a surface\n",
    "plt.contourf(xx, yy, zz, cmap='Paired')\n",
    "# create scatter plot for samples from each class\n",
    "for class_value in range(2):\n",
    "    # get row indexes for samples with this class\n",
    "    row_ix = np.where(y_example == class_value)\n",
    "    # create scatter of these samples\n",
    "    plt.scatter(X_example[row_ix, 0], X_example[row_ix, 1], cmap='Paired')"
   ]
  }
 ],
 "metadata": {
  "kernelspec": {
   "display_name": "Python 3.10.4 64-bit",
   "language": "python",
   "name": "python3"
  },
  "language_info": {
   "codemirror_mode": {
    "name": "ipython",
    "version": 3
   },
   "file_extension": ".py",
   "mimetype": "text/x-python",
   "name": "python",
   "nbconvert_exporter": "python",
   "pygments_lexer": "ipython3",
   "version": "3.10.4"
  },
  "orig_nbformat": 4,
  "vscode": {
   "interpreter": {
    "hash": "4f946df053fbf2b937619d3c5458e7af74262f9a954d8797ba0b27400bcafe06"
   }
  }
 },
 "nbformat": 4,
 "nbformat_minor": 2
}
