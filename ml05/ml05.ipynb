{
 "cells": [
  {
   "cell_type": "markdown",
   "metadata": {},
   "source": [
    "# Machine Learning #5 - Doğrusal Sınıflandırıcılar, Mantıksal Regresyon, Düzenlileştirme"
   ]
  },
  {
   "cell_type": "markdown",
   "metadata": {},
   "source": [
    "Merhabalar, Machine Learning serimizin beşincisinde;\n",
    "* Doğrusal sınıflandırıcıları tanıyacak,\n",
    "* Mantıksal regresyon ve ilgili kavramları örneklendirerek inceleyeceğiz."
   ]
  },
  {
   "cell_type": "code",
   "execution_count": 83,
   "metadata": {},
   "outputs": [],
   "source": [
    "import numpy as np\n",
    "import pandas as pd\n",
    "import matplotlib.pyplot as plt\n",
    "import seaborn as sns\n",
    "from sklearn.model_selection import train_test_split\n",
    "from sklearn.linear_model import LogisticRegression\n",
    "from sklearn.metrics import (\n",
    "    accuracy_score,\n",
    "    confusion_matrix,\n",
    "    precision_score,\n",
    "    recall_score,\n",
    "    RocCurveDisplay,\n",
    ")\n",
    "from sklearn.model_selection import RandomizedSearchCV\n",
    "from sklearn.model_selection import GridSearchCV\n",
    "from sklearn.preprocessing import StandardScaler\n",
    "\n",
    "import warnings\n",
    "warnings.filterwarnings('ignore')\n",
    "\n",
    "from sklearn.svm import SVC\n",
    "from sklearn import svm, datasets"
   ]
  },
  {
   "cell_type": "markdown",
   "metadata": {},
   "source": [
    "## Mantıksal Regresyon Nedir?"
   ]
  },
  {
   "cell_type": "markdown",
   "metadata": {},
   "source": [
    "Yazı dizimizin üçüncüsünde, **Doğrusal Regresyon** konusuna değinmiştik. Sonrasında da bu metodu, bir ev fiyatı tahminleyicisi oluşturmak için kullanmıştık. **Doğrusal(Lineer) Regresyon** ile **Mantıksal(Lojistik) Regresyon** kavramları birbirine karıştırılmamalıdır.\n",
    "\n",
    "**Lojistik Regresyon**, bir **Doğrusal Sınıflandırıcı**'dır. Bir sınıfı belirleyen bir veya daha fazla bağımsız değişken bulunan bir veri kümesini analiz etmek için kullanılan istatistiksel bir yöntemdir. Sonuç, ikili bir değişkenle ölçülür (yalnızca iki olası sonuç vardır). O örnek, aradığımız sınıfa aittir veya değildir(Diğer sınıflardan birine aittir)."
   ]
  },
  {
   "cell_type": "markdown",
   "metadata": {},
   "source": [
    "Örneğin, ev fiyatı tahminleyicimizi tekrar ele alalım. Elimizde kimi noktasal(örneğin evin oda sayısı), \n",
    "kimi sürekli olan(örneğin evin metrekaresi) bir özellik sınıfı mevcuttu. Bu özelliklere göre, yine bir sürekli değişken olan ***ev fiyatı*** özelliğini tahmin etmeye çalışıyorduk.\n",
    "\n",
    "**Lojistik Regresyon** uygulamalarında da, özellik seti yine sürekli değerler barındırır. Ancak hedefimiz bir **sürekli değişken** yerine bir **sınıf** belirlemektir. Bu sınıfı belirlerken de bir **eşik değer** kullanırız. Örneğin evin fiyatı 50.000 doların altında ise ucuz(y=0 ile temsil edebiliriz) eğer 50.000 doların üzerinde ise pahalı (y=1 ile temsil edebiliriz)."
   ]
  },
  {
   "cell_type": "markdown",
   "metadata": {},
   "source": [
    "## Karar Sınırı, Doğrusal Sınıflandırıcı, Doğrusal Ayrılabilirlik"
   ]
  },
  {
   "cell_type": "markdown",
   "metadata": {},
   "source": [
    "Teorik anlatıma devam etmeden önce, bir **Doğrusal Sınıflandırıcı** görsel olarak neye benzer, nasıl çalışır bunu görelim."
   ]
  },
  {
   "cell_type": "code",
   "execution_count": 4,
   "metadata": {},
   "outputs": [
    {
     "data": {
      "image/png": "[encoded data removed]",
      "text/plain": [
       "<Figure size 432x288 with 1 Axes>"
      ]
     },
     "metadata": {
      "needs_background": "light"
     },
     "output_type": "display_data"
    }
   ],
   "source": [
    "# Kaynak: https://scikit-learn.org/stable/modules/generated/sklearn.datasets.make_blobs.html\n",
    "from sklearn.datasets import make_blobs\n",
    "\n",
    "X_example, y_example = make_blobs(n_samples=1000, centers=2, n_features=2, random_state=1, cluster_std=3)\n",
    "\n",
    "min1, max1 = X_example[:, 0].min()-1, X_example[:, 0].max()+1\n",
    "min2, max2 = X_example[:, 1].min()-1, X_example[:, 1].max()+1\n",
    "\n",
    "x1grid = np.arange(min1, max1, 0.1)\n",
    "x2grid = np.arange(min2, max2, 0.1)\n",
    "\n",
    "xx, yy = np.meshgrid(x1grid, x2grid)\n",
    "\n",
    "r1, r2 = xx.flatten(), yy.flatten()\n",
    "r1, r2 = r1.reshape((len(r1), 1)), r2.reshape((len(r2), 1))\n",
    "\n",
    "grid = np.hstack((r1,r2))\n",
    "\n",
    "model = LogisticRegression()\n",
    "\n",
    "model.fit(X_example, y_example)\n",
    "\n",
    "yhat = model.predict(grid)\n",
    "\n",
    "zz = yhat.reshape(xx.shape)\n",
    "\n",
    "plt.contourf(xx, yy, zz, cmap='Paired')\n",
    "\n",
    "for class_value in range(2):\n",
    "    row_ix = np.where(y_example == class_value)\n",
    "    plt.scatter(X_example[row_ix, 0], X_example[row_ix, 1], cmap='Paired')"
   ]
  },
  {
   "cell_type": "markdown",
   "metadata": {},
   "source": [
    "Az sayıda hatalı tahmin edilen örnek olsa da, sınıflandırıcımız bu veri kümesini doğrusal bir çizgiyle iki sınıfa ayırabildi. Bu, sınıflandırıcımızın bir **Doğrusal Sınıflandırıcı**, veri kümemizin de **Doğrusal Ayrılabilir** olduğu anlamına gelir."
   ]
  },
  {
   "cell_type": "markdown",
   "metadata": {},
   "source": [
    "## Mantıksal Regresyon Uygulaması"
   ]
  },
  {
   "cell_type": "markdown",
   "metadata": {},
   "source": [
    "Uygulama için, bir telekom şirketinin müşteri veri setini ele alacak ve hangi müşterinin **churn** edip etmediğini tahminleyeceğiz.\n",
    "\n",
    "**churn**: Müşterinin artık o şirketin müşterisi olmaması anlamına gelir.\n",
    "\n",
    "Veri seti kaynağı: https://archive.ics.uci.edu/ml/datasets/Iranian+Churn+Dataset"
   ]
  },
  {
   "cell_type": "code",
   "execution_count": 7,
   "metadata": {},
   "outputs": [],
   "source": [
    "df = pd.read_csv(\"customer_churn.csv\")"
   ]
  },
  {
   "cell_type": "markdown",
   "metadata": {},
   "source": [
    "Veri kümemizi değişkene atadıktan sonra, klasik olarak keşifsel veri analizi kısımlarıyla devam ediyoruz."
   ]
  },
  {
   "cell_type": "code",
   "execution_count": 8,
   "metadata": {},
   "outputs": [
    {
     "name": "stdout",
     "output_type": "stream",
     "text": [
      "<class 'pandas.core.frame.DataFrame'>\n",
      "RangeIndex: 3150 entries, 0 to 3149\n",
      "Data columns (total 9 columns):\n",
      " #   Column                   Non-Null Count  Dtype\n",
      "---  ------                   --------------  -----\n",
      " 0   Call  Failure            3150 non-null   int64\n",
      " 1   Complains                3150 non-null   int64\n",
      " 2   Subscription  Length     3150 non-null   int64\n",
      " 3   Charge  Amount           3150 non-null   int64\n",
      " 4   Seconds of Use           3150 non-null   int64\n",
      " 5   Frequency of SMS         3150 non-null   int64\n",
      " 6   Distinct Called Numbers  3150 non-null   int64\n",
      " 7   Age                      3150 non-null   int64\n",
      " 8   Churn                    3150 non-null   int64\n",
      "dtypes: int64(9)\n",
      "memory usage: 221.6 KB\n"
     ]
    }
   ],
   "source": [
    "df.info()"
   ]
  },
  {
   "cell_type": "markdown",
   "metadata": {},
   "source": [
    "Veri setimiz, bir telekom müşterisine ait olabilecek ne kadar süredir abone olduğu, SMS sıklığı, yaptığı aramaların sayısı, fatura tutarının ne kadar büyük/küçük olduğu gibi özellikleri içeriyor. Buradaki **Churn** özelliği, bizim hedef değişkenimizdir. Modelimizden bu değişkeni y=0(Hala şirketin müşterisi) veya y=1(Artık müşteri değil) olarak tahminlemesini isteyeceğiz."
   ]
  },
  {
   "cell_type": "code",
   "execution_count": 9,
   "metadata": {
    "scrolled": true
   },
   "outputs": [
    {
     "data": {
      "text/html": [
       "<div>\n",
       "<style scoped>\n",
       "    .dataframe tbody tr th:only-of-type {\n",
       "        vertical-align: middle;\n",
       "    }\n",
       "\n",
       "    .dataframe tbody tr th {\n",
       "        vertical-align: top;\n",
       "    }\n",
       "\n",
       "    .dataframe thead th {\n",
       "        text-align: right;\n",
       "    }\n",
       "</style>\n",
       "<table border=\"1\" class=\"dataframe\">\n",
       "  <thead>\n",
       "    <tr style=\"text-align: right;\">\n",
       "      <th></th>\n",
       "      <th>Call  Failure</th>\n",
       "      <th>Complains</th>\n",
       "      <th>Subscription  Length</th>\n",
       "      <th>Charge  Amount</th>\n",
       "      <th>Seconds of Use</th>\n",
       "      <th>Frequency of SMS</th>\n",
       "      <th>Distinct Called Numbers</th>\n",
       "      <th>Age</th>\n",
       "      <th>Churn</th>\n",
       "    </tr>\n",
       "  </thead>\n",
       "  <tbody>\n",
       "    <tr>\n",
       "      <th>count</th>\n",
       "      <td>3150.000000</td>\n",
       "      <td>3150.000000</td>\n",
       "      <td>3150.000000</td>\n",
       "      <td>3150.000000</td>\n",
       "      <td>3150.000000</td>\n",
       "      <td>3150.000000</td>\n",
       "      <td>3150.000000</td>\n",
       "      <td>3150.000000</td>\n",
       "      <td>3150.000000</td>\n",
       "    </tr>\n",
       "    <tr>\n",
       "      <th>mean</th>\n",
       "      <td>7.627937</td>\n",
       "      <td>0.076508</td>\n",
       "      <td>32.541905</td>\n",
       "      <td>0.942857</td>\n",
       "      <td>4472.459683</td>\n",
       "      <td>73.174921</td>\n",
       "      <td>23.509841</td>\n",
       "      <td>30.998413</td>\n",
       "      <td>0.157143</td>\n",
       "    </tr>\n",
       "    <tr>\n",
       "      <th>std</th>\n",
       "      <td>7.263886</td>\n",
       "      <td>0.265851</td>\n",
       "      <td>8.573482</td>\n",
       "      <td>1.521072</td>\n",
       "      <td>4197.908687</td>\n",
       "      <td>112.237560</td>\n",
       "      <td>17.217337</td>\n",
       "      <td>8.831095</td>\n",
       "      <td>0.363993</td>\n",
       "    </tr>\n",
       "    <tr>\n",
       "      <th>min</th>\n",
       "      <td>0.000000</td>\n",
       "      <td>0.000000</td>\n",
       "      <td>3.000000</td>\n",
       "      <td>0.000000</td>\n",
       "      <td>0.000000</td>\n",
       "      <td>0.000000</td>\n",
       "      <td>0.000000</td>\n",
       "      <td>15.000000</td>\n",
       "      <td>0.000000</td>\n",
       "    </tr>\n",
       "    <tr>\n",
       "      <th>25%</th>\n",
       "      <td>1.000000</td>\n",
       "      <td>0.000000</td>\n",
       "      <td>30.000000</td>\n",
       "      <td>0.000000</td>\n",
       "      <td>1391.250000</td>\n",
       "      <td>6.000000</td>\n",
       "      <td>10.000000</td>\n",
       "      <td>25.000000</td>\n",
       "      <td>0.000000</td>\n",
       "    </tr>\n",
       "    <tr>\n",
       "      <th>50%</th>\n",
       "      <td>6.000000</td>\n",
       "      <td>0.000000</td>\n",
       "      <td>35.000000</td>\n",
       "      <td>0.000000</td>\n",
       "      <td>2990.000000</td>\n",
       "      <td>21.000000</td>\n",
       "      <td>21.000000</td>\n",
       "      <td>30.000000</td>\n",
       "      <td>0.000000</td>\n",
       "    </tr>\n",
       "    <tr>\n",
       "      <th>75%</th>\n",
       "      <td>12.000000</td>\n",
       "      <td>0.000000</td>\n",
       "      <td>38.000000</td>\n",
       "      <td>1.000000</td>\n",
       "      <td>6478.250000</td>\n",
       "      <td>87.000000</td>\n",
       "      <td>34.000000</td>\n",
       "      <td>30.000000</td>\n",
       "      <td>0.000000</td>\n",
       "    </tr>\n",
       "    <tr>\n",
       "      <th>max</th>\n",
       "      <td>36.000000</td>\n",
       "      <td>1.000000</td>\n",
       "      <td>47.000000</td>\n",
       "      <td>10.000000</td>\n",
       "      <td>17090.000000</td>\n",
       "      <td>522.000000</td>\n",
       "      <td>97.000000</td>\n",
       "      <td>55.000000</td>\n",
       "      <td>1.000000</td>\n",
       "    </tr>\n",
       "  </tbody>\n",
       "</table>\n",
       "</div>"
      ],
      "text/plain": [
       "       Call  Failure    Complains  Subscription  Length  Charge  Amount  \\\n",
       "count    3150.000000  3150.000000           3150.000000     3150.000000   \n",
       "mean        7.627937     0.076508             32.541905        0.942857   \n",
       "std         7.263886     0.265851              8.573482        1.521072   \n",
       "min         0.000000     0.000000              3.000000        0.000000   \n",
       "25%         1.000000     0.000000             30.000000        0.000000   \n",
       "50%         6.000000     0.000000             35.000000        0.000000   \n",
       "75%        12.000000     0.000000             38.000000        1.000000   \n",
       "max        36.000000     1.000000             47.000000       10.000000   \n",
       "\n",
       "       Seconds of Use  Frequency of SMS  Distinct Called Numbers          Age  \\\n",
       "count     3150.000000       3150.000000              3150.000000  3150.000000   \n",
       "mean      4472.459683         73.174921                23.509841    30.998413   \n",
       "std       4197.908687        112.237560                17.217337     8.831095   \n",
       "min          0.000000          0.000000                 0.000000    15.000000   \n",
       "25%       1391.250000          6.000000                10.000000    25.000000   \n",
       "50%       2990.000000         21.000000                21.000000    30.000000   \n",
       "75%       6478.250000         87.000000                34.000000    30.000000   \n",
       "max      17090.000000        522.000000                97.000000    55.000000   \n",
       "\n",
       "             Churn  \n",
       "count  3150.000000  \n",
       "mean      0.157143  \n",
       "std       0.363993  \n",
       "min       0.000000  \n",
       "25%       0.000000  \n",
       "50%       0.000000  \n",
       "75%       0.000000  \n",
       "max       1.000000  "
      ]
     },
     "execution_count": 9,
     "metadata": {},
     "output_type": "execute_result"
    }
   ],
   "source": [
    "df.describe()"
   ]
  },
  {
   "cell_type": "markdown",
   "metadata": {},
   "source": [
    "Veri setimizi ön işleme adımında, scale etmeyi atlamamak gerekir. Çünkü, özelliklerin **maximum**, **mean** gibi değerlerini kıyasladığımızda, birbirlerinden oldukça farklı olabildiklerini görüyoruz."
   ]
  },
  {
   "cell_type": "code",
   "execution_count": 56,
   "metadata": {},
   "outputs": [],
   "source": [
    "X = df.iloc[:, 0:8]  \n",
    "y = df[\"Churn\"]  \n",
    "\n",
    "\n",
    "X_train, X_test, y_train, y_test = train_test_split(\n",
    "    X, y, test_size=0.10, random_state=42\n",
    ")\n",
    "\n",
    "sc = StandardScaler().fit(X_train)\n",
    "X_train_scaled = sc.transform(X_train)\n",
    "X_test_scaled = sc.transform(X_test)"
   ]
  },
  {
   "cell_type": "code",
   "execution_count": 57,
   "metadata": {},
   "outputs": [
    {
     "name": "stdout",
     "output_type": "stream",
     "text": [
      "Best CV params {'C': 0.1, 'penalty': 'l2', 'random_state': 42}\n"
     ]
    }
   ],
   "source": [
    "parameters = {'C':[0.001, 0.01, 0.1, 1, 10, 100],\n",
    "              'random_state': [42],\n",
    "              'penalty': ['l2']\n",
    "             }\n",
    "\n",
    "lr = LogisticRegression()\n",
    "searcher = GridSearchCV(lr, parameters)\n",
    "\n",
    "searcher = searcher.fit(X_train_scaled, y_train)\n",
    "y_pred = searcher.predict(X_test_scaled)\n",
    "\n",
    "print(\"Best CV params\", searcher.best_params_)"
   ]
  },
  {
   "cell_type": "markdown",
   "metadata": {},
   "source": [
    "Grid search ile en uygun **C** parametresinin **0.1** olduğunu gördük. Peki regresyon modelimiz buna nasıl karar verir? Görselleştirerek görelim."
   ]
  },
  {
   "cell_type": "code",
   "execution_count": 58,
   "metadata": {},
   "outputs": [
    {
     "data": {
      "image/png": "[encoded data removed]",
      "text/plain": [
       "<Figure size 432x288 with 1 Axes>"
      ]
     },
     "metadata": {
      "needs_background": "light"
     },
     "output_type": "display_data"
    }
   ],
   "source": [
    "train_errs = list()\n",
    "test_errs = list()\n",
    "C_values = [0.001, 0.01, 0.1, 1, 10, 100]\n",
    "for C_value in C_values:\n",
    "    lr = LogisticRegression(C=C_value)\n",
    "    lr.fit(X_train, y_train)\n",
    "    \n",
    "    train_errs.append( 1.0 - lr.score(X_train, y_train) )\n",
    "    test_errs.append( 1.0 - lr.score(X_test, y_test) )\n",
    "    \n",
    "plt.semilogx(C_values, train_errs, C_values, test_errs)\n",
    "plt.legend((\"train error\", \"test error\"))\n",
    "plt.show()"
   ]
  },
  {
   "cell_type": "markdown",
   "metadata": {},
   "source": [
    "Hem train, hem de test hatalarını **C** parametresinin değerine göre sıraladığımızda ilk ve en büyük aşağı yönlü kırılmanın **0.1** değerinde olduğunu görüyoruz. Bundan sonra doğruların eğimi yeniden yükselmeye başlıyor. Bundan dolayı, optimum **C** parametre değerinin **0.1** olduğunu söyleyebiliriz."
   ]
  },
  {
   "cell_type": "markdown",
   "metadata": {},
   "source": [
    "En uygun parametreleri bulmayı denerken **'random_state'** ve **'penalty'** değerlerini kendimiz belirledik. Ancak, **'C'** değeri için toplam 6 deneme yaptık ve en uygun değeri **0.1** olarak belirledik. Peki, nedir bu **C** parametresi?"
   ]
  },
  {
   "cell_type": "markdown",
   "metadata": {},
   "source": [
    "## Lojistik Regresyonda Düzenleme(Regülarizasyon) Etkisi"
   ]
  },
  {
   "cell_type": "markdown",
   "metadata": {},
   "source": [
    "**C** parametresi, **scikit-learn** kütüphanemiz için regülarizasyonun tersini ifade eder. **Daha büyük C daha az düzenleme, daha küçük C daha fazla düzenleme anlamına gelir**."
   ]
  },
  {
   "cell_type": "code",
   "execution_count": 70,
   "metadata": {},
   "outputs": [
    {
     "name": "stdout",
     "output_type": "stream",
     "text": [
      "0.9033509700176366\n",
      "0.9015873015873016\n"
     ]
    }
   ],
   "source": [
    "lr_weak_reg = LogisticRegression(C=10000)\n",
    "lr_strong_reg = LogisticRegression(C=0.01)\n",
    "\n",
    "lr_weak_reg.fit(X_train_scaled, y_train)\n",
    "lr_strong_reg.fit(X_train_scaled, y_train)\n",
    "\n",
    "print(lr_weak_reg.score(X_train_scaled, y_train))\n",
    "print(lr_strong_reg.score(X_train_scaled, y_train))"
   ]
  },
  {
   "cell_type": "markdown",
   "metadata": {},
   "source": [
    "Daha önceki yazılarda, regülarizasyonun \"büyük katsayılar için bir cezalandırma işlevi\" olduğundan bahsetmiştik. **l1** ve **l2** regülarizasyonlarını da ayrı ayrı inceleyerek özellik seçimine nasıl etki ettiğini gözlemlemiştik.\n",
    "\n",
    "Burada da, iki farklı **C** değeri için eğitim hatalarını karşılaştırdık. Düzenlileştirme arttıkça(Daha küçük C değeri için) eğitim başarısının düştüğünü gördük. Cezalandırma işlevinin gereğinden fazla kullanılması, bazı önemli katsayıların da olması gerekenden daha küçük olması ve daha işlevsiz kalmasına yol açar. Bu da eğitim başarısını düşürür."
   ]
  },
  {
   "cell_type": "code",
   "execution_count": 71,
   "metadata": {},
   "outputs": [
    {
     "name": "stdout",
     "output_type": "stream",
     "text": [
      "0.8793650793650793\n",
      "0.8920634920634921\n"
     ]
    }
   ],
   "source": [
    "print(lr_weak_reg.score(X_test_scaled, y_test))\n",
    "print(lr_strong_reg.score(X_test_scaled, y_test))"
   ]
  },
  {
   "cell_type": "markdown",
   "metadata": {},
   "source": [
    "Test verisi üzerinde bu etkiyi incelediğimizde ise, yüksek regülarizasyonun test başarısını yükselttiğini görüyoruz. Bunun sebebi de, daha önce değindiğimiz gibi işlevsiz özellikler için katsayıların sıfırlanabilmesi ve bunun performansı artırmasıdır."
   ]
  },
  {
   "cell_type": "code",
   "execution_count": 76,
   "metadata": {},
   "outputs": [
    {
     "data": {
      "text/plain": [
       "[<matplotlib.lines.Line2D at 0x16b1ef4c0>]"
      ]
     },
     "execution_count": 76,
     "metadata": {},
     "output_type": "execute_result"
    },
    {
     "data": {
      "image/png": "[encoded data removed]",
      "text/plain": [
       "<Figure size 432x288 with 1 Axes>"
      ]
     },
     "metadata": {
      "needs_background": "light"
     },
     "output_type": "display_data"
    }
   ],
   "source": [
    "lr_L1 = LogisticRegression(penalty='l1', solver='liblinear') #solver'ı defaultta bırakırsanız hata alırsınız.\n",
    "lr_L1.fit(X_train, y_train)\n",
    "plt.plot(lr_L1.coef_.flatten())"
   ]
  },
  {
   "cell_type": "markdown",
   "metadata": {},
   "source": [
    "Düzenleme için **l1** kullandığımızda işimize yaramayacak pek çok özelliğin katsayısının sıfıra eşitlendiğini görüyoruz. Bu, test başarısını yükseltir."
   ]
  },
  {
   "cell_type": "code",
   "execution_count": 77,
   "metadata": {},
   "outputs": [
    {
     "data": {
      "text/plain": [
       "[<matplotlib.lines.Line2D at 0x16c163bb0>]"
      ]
     },
     "execution_count": 77,
     "metadata": {},
     "output_type": "execute_result"
    },
    {
     "data": {
      "image/png": "[encoded data removed]",
      "text/plain": [
       "<Figure size 432x288 with 1 Axes>"
      ]
     },
     "metadata": {
      "needs_background": "light"
     },
     "output_type": "display_data"
    }
   ],
   "source": [
    "lr_L2 = LogisticRegression() #varsayılan olarak 'l2'dir.\n",
    "lr_L2.fit(X_train, y_train)\n",
    "plt.plot(lr_L2.coef_.flatten())"
   ]
  },
  {
   "cell_type": "markdown",
   "metadata": {},
   "source": [
    "**l2** ise, bir regülarizasyondan beklediğimiz şekilde katsayıları küçültür."
   ]
  },
  {
   "cell_type": "code",
   "execution_count": 78,
   "metadata": {},
   "outputs": [
    {
     "name": "stdout",
     "output_type": "stream",
     "text": [
      "Accuracy: 0.8920634920634921\n"
     ]
    }
   ],
   "source": [
    "print(\"Accuracy:\", accuracy_score(y_test, y_pred))"
   ]
  },
  {
   "cell_type": "markdown",
   "metadata": {},
   "source": [
    "Bu regülarizasyonla model başarısının %89.2 olduğunu gördük. Son olarak ROC eğrisini de çizdirerek bu kısmı noktalayalım."
   ]
  },
  {
   "cell_type": "code",
   "execution_count": 81,
   "metadata": {},
   "outputs": [
    {
     "data": {
      "text/plain": [
       "<sklearn.metrics._plot.roc_curve.RocCurveDisplay at 0x16b4c3670>"
      ]
     },
     "execution_count": 81,
     "metadata": {},
     "output_type": "execute_result"
    },
    {
     "data": {
      "image/png": "[encoded data removed]",
      "text/plain": [
       "<Figure size 432x288 with 1 Axes>"
      ]
     },
     "metadata": {
      "needs_background": "light"
     },
     "output_type": "display_data"
    }
   ],
   "source": [
    "RocCurveDisplay.from_estimator(searcher, X_test_scaled, y_test)"
   ]
  },
  {
   "cell_type": "markdown",
   "metadata": {},
   "source": [
    "Bir ROC eğrisi (Receiver Operating Characteristic), model başarımını görmenin bir diğer yoludur. Gerçekten pozitif tahmin edilen değerler(True Positive) ile hatalı olarak pozitif(False Positive) tahmin edilen değerlerin bir görselleştirmesidir. İdeal olarak sol üst köşeye yaklaşan bir eğri görmek isteriz.\n",
    "\n",
    "Bizim örneğimiz için, sol tarafta doğru tahmin edilen churn eden müşterileri, sağ eksende de churn etmediği halde churn olarak tahmin edilen müşterileri görüyoruz. AUC(Area Under Curve) değerinin **accuracy** ile aynı olduğuna dikkat edin.\n",
    "\n",
    "Sonraki yazılarımızda görüşmek üzere."
   ]
  }
 ],
 "metadata": {
  "kernelspec": {
   "display_name": "Python 3 (ipykernel)",
   "language": "python",
   "name": "python3"
  },
  "language_info": {
   "codemirror_mode": {
    "name": "ipython",
    "version": 3
   },
   "file_extension": ".py",
   "mimetype": "text/x-python",
   "name": "python",
   "nbconvert_exporter": "python",
   "pygments_lexer": "ipython3",
   "version": "3.8.9"
  },
  "vscode": {
   "interpreter": {
    "hash": "4f946df053fbf2b937619d3c5458e7af74262f9a954d8797ba0b27400bcafe06"
   }
  }
 },
 "nbformat": 4,
 "nbformat_minor": 2
}
