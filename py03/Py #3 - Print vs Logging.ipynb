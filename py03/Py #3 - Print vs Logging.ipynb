{
 "cells": [
  {
   "cell_type": "markdown",
   "id": "a2a430c3",
   "metadata": {},
   "source": [
    "# Py #3 - Print vs Logging"
   ]
  },
  {
   "cell_type": "markdown",
   "id": "0c0a87ba",
   "metadata": {},
   "source": [
    "Merhabalar, Python dilinin kullanışlı özelliklerini incelediğimiz serinin üçüncü yazısında, ürün seviyesindeki yazılım projelerinin neredeyse tamamında kullanılan **logging** kütüphanesini, kullanımlarını ve **print** fonksiyonundan farklarını/avantajlarını inceleyeceğiz."
   ]
  },
  {
   "cell_type": "markdown",
   "id": "418b1f53",
   "metadata": {},
   "source": [
    "Hangi yazılım dilini öğreniyor olursak olalım, neredeyse hepimizin öğrendiği ve yazdığı ilk şey aynıdır:"
   ]
  },
  {
   "cell_type": "code",
   "execution_count": 1,
   "id": "f8ea81bc",
   "metadata": {},
   "outputs": [
    {
     "name": "stdout",
     "output_type": "stream",
     "text": [
      "Hello World!\n"
     ]
    }
   ],
   "source": [
    "print(\"Hello World!\")"
   ]
  },
  {
   "cell_type": "markdown",
   "id": "ac230446",
   "metadata": {},
   "source": [
    "## Neden Logging?"
   ]
  },
  {
   "cell_type": "markdown",
   "id": "a671909e",
   "metadata": {},
   "source": [
    "Ancak meslek hayatımızda bir ürün geliştirirken, **print** fonksiyonu pek de kullanışlı değildir. \n",
    "\n",
    "- Kodunuzun doğru çalışıyor olduğunu periyodik olarak görmek isteyebilirsiniz.\n",
    "- Hata mesajlarınızın hangi dosyanın hangi satırında, hangi fonksiyon içerisinde ve saat kaçta oluştuğunu bilmek isteyebilirsiniz. \n",
    "- Tutmak istediğiniz kayıtları önem derecesine göre ayırt edebilirsiniz.\n",
    "\n",
    "Bunlar **logging** kütüphanesinin size sağladığı kolaylıklardır. Ancak bunların dışında 2 kritik önemi daha vardır:\n",
    "\n",
    "- Kodunuzun diğer python araçları veya scriptleri tarafından içe aktarılması söz konusuysa, print kullarak bir şeyler stdout'a yazdırması pratik bir fikir değildir çünkü kullanan kişi bu mesajların nereden geldiğini bilemeyecektir.\n",
    "- Ayrıca, yüksek ihtimalle kodunuzu Dockerize ederek(Yani bir Docker imajına çevirerek ve bir Docker container'ı içerisinde) çalıştırıyor olacaksınız. Bunun anlamı, print kullanarak yazdırdığınız hiçbir satırı container loglarında göremeyecek olmanızdır, çünkü bu esnada konsola erişiminiz yoktur. Print fonksiyonu, yalnızca konsola yazdırma işlemini yapar."
   ]
  },
  {
   "cell_type": "markdown",
   "id": "87b08d8c",
   "metadata": {},
   "source": [
    "## Logging ile Kayıt Dosyası Oluşturma"
   ]
  },
  {
   "cell_type": "markdown",
   "id": "81026168",
   "metadata": {},
   "source": [
    "Logging kütüphanesinin örnek bir kullanımı aşağıdaki gibidir."
   ]
  },
  {
   "cell_type": "code",
   "execution_count": 2,
   "id": "fee48f3f",
   "metadata": {},
   "outputs": [
    {
     "name": "stdout",
     "output_type": "stream",
     "text": [
      "You will not see this line in log file, just a simple output\n"
     ]
    }
   ],
   "source": [
    "# logging_file_example.py isimli bir Python dosyası oluşturalım.\n",
    "\n",
    "import logging\n",
    " \n",
    "logging.basicConfig(filename=\"logfile.txt\", \n",
    "                    format='%(asctime)s - %(levelname)s - %(message)s', \n",
    "                    filemode='w',\n",
    "                    level = logging.ERROR)\n",
    " \n",
    "logger = logging.getLogger()\n",
    " \n",
    "try:\n",
    "    logger.debug(\"Process is started\")\n",
    "    result = 5 / 0\n",
    "except:\n",
    "    logger.error(\"Exception thrown\", exc_info = True)\n",
    "    print(\"You will not see this line in log file, just a simple output\")"
   ]
  },
  {
   "cell_type": "markdown",
   "id": "b4d7a84e",
   "metadata": {},
   "source": [
    "Bu dosyayı oluşturup \"python logging_file_example.py\" komutuyla çalıştırdığımızda sadece bir satırlık bir çıktı gördük. Bu, **print** fonksiyonunun konsola yazdırdığı ekran çıktısıdır. **logging** kütüphanesinin çıktısı ise dosyayı çalıştırdığınız dizindedir. **basicConfig** parametrelerinde belirttiğiniz **logfile.txt** isimli dosya oluşturulmuş ve bu çıktı oraya kaydedilmiştir. Bu çıktıyı inceleyelim:"
   ]
  },
  {
   "cell_type": "markdown",
   "id": "25aae671",
   "metadata": {},
   "source": [
    "![title](file_output.png)"
   ]
  },
  {
   "cell_type": "markdown",
   "id": "ea8d43b1",
   "metadata": {},
   "source": [
    "Ekrana yazmasını istediğimiz cümle, ve kayıt tipi, hatanın tam olarak hangi dizinde/dosyada olduğu, kaçıncı satırda olduğu, hataya sebep olan kod kısmı, hatanın türü ve mesajı tam olarak yazılmıştır.\n",
    "\n",
    "Aynı detayları **print** fonksiyonu ile yazdırabilmek için kullandığınız her nokta bu tanımları tek tek kendiniz yapmalısınız. Ancak **logging** kütüphanesi için **basicConfig** içerisinde bir kere yapmamız yeterli.\n",
    "\n",
    "Yazdığımız kodu biraz daha derinlemesine inceleyelim. Örneğin 14. satırdaki **debug** kaydı txt dosyamızda yok. Peki neden? Bunun cevabı **basicConfig** içerisindeki **level** parametresidir. Bu parametreyi **error** olarak belirttiğimiz için, önem düzeyi olarak daha aşağıda kalan hiçbir logu dosyaya yazmayacaktır."
   ]
  },
  {
   "cell_type": "markdown",
   "id": "09e37555",
   "metadata": {},
   "source": [
    "## Log seviyeleri nelerdir?\n",
    "\n",
    "Önem düzeyi artan şekilde log seviyeleri şunlardır:\n",
    "\n",
    "**Debug**: Program çalışmaya devam ederken ortaya çıkan beklenmedik bir çıktıyı incelemek/düzeltmek için kullanırız.\n",
    "\n",
    "**Info**: Yazılımımızın sağlıklı bir biçimde akışını gözlemlemek için kullanırız.\n",
    "\n",
    "**Warning**: Beklenmedik hata vb. bir durumu gözlemlemek istediğimizde kullanırız.\n",
    "\n",
    "**Error**: Programda bir problem oluştuğu zaman, genellikle program bazı komutları çalıştıramadığı zaman kullanırız.\n",
    "\n",
    "**Critical**: En yüksek seviyedeki hata durumudur. Genellikle program daha fazla çalışamayacağı zaman kullanırız."
   ]
  },
  {
   "cell_type": "markdown",
   "id": "081ea926",
   "metadata": {},
   "source": [
    "### Diğer basicConfig Parametreleri\n",
    "**basicConfig** içerisine yazdığımız diğer parametrelerden de kısaca bahsetmek gerekirse:"
   ]
  },
  {
   "cell_type": "markdown",
   "id": "1a9da751",
   "metadata": {},
   "source": [
    "**Filename**: Loglarımızın tutulacağı dosyanın ismi. Bir dizin belirtilmezse kendi bulunduğu dizinde tutar.\n",
    "\n",
    "**Format**: Kaydın tutulacağı formatı belirler. (örneğimizde 3 parametre verilmiştir.)\n",
    "\n",
    "**Filemode**: Logun tutulacağı modu belirler. “w” veya “a” tercih edebilirsiniz. “w” daha önceden yazılan dosyanın içeriğini yazmaya baştan başlarken, “a” dosyanın son kaldığı yerden devam eder."
   ]
  },
  {
   "cell_type": "markdown",
   "id": "379deb71",
   "metadata": {},
   "source": [
    "Şimdi de benzer bir çıktıyı **print** fonksiyonu kullanarak almaya çalışmanın zorluğunu görmeyi deneyelim. "
   ]
  },
  {
   "cell_type": "code",
   "execution_count": 3,
   "id": "7d7b659c",
   "metadata": {},
   "outputs": [
    {
     "name": "stdout",
     "output_type": "stream",
     "text": [
      "<class 'ZeroDivisionError'>: division by zero, 2022-03-20 15:51:20.053352, Exception thrown\n"
     ]
    }
   ],
   "source": [
    "# print.py isimli bir Python dosyası oluşturalım.\n",
    "import datetime\n",
    "try:\n",
    "    result = 5 / 0\n",
    "except Exception as e:\n",
    "    print(\"{}: {}, {}, Exception thrown\".format(type(e), e, datetime.datetime.now()))"
   ]
  },
  {
   "cell_type": "markdown",
   "id": "01a8d53b",
   "metadata": {},
   "source": [
    "**format** fonksiyonunun içine yazdığımız değişkenlerini her birini, **print** fonksiyonunu kullandığımız her yerde tekrar tekrar yazmamız gerektiğini unutmayın. **logging** kütüphanesini kullandığımız senaryoda ise bunları kodumuzun başında bir kere tanımlamamız yeterli. **Print** fonksiyonu kullanarak oluşturduğumuz çıktıda hangi dizindeki kodun hangi satırının hata verdiği gibi detayların da yer almadığını belirtmek gerek."
   ]
  },
  {
   "cell_type": "markdown",
   "id": "569b277f",
   "metadata": {},
   "source": [
    "## Logging ile Konsol Çıktısı Oluşturma"
   ]
  },
  {
   "cell_type": "markdown",
   "id": "1d999342",
   "metadata": {},
   "source": [
    "Bir diğer kullanım örneği olarak, çıktıyı bu kez bir dosyaya yazdırmak yerine direkt olarak ekranda görelim"
   ]
  },
  {
   "cell_type": "code",
   "execution_count": 4,
   "id": "d9547125",
   "metadata": {
    "scrolled": true
   },
   "outputs": [
    {
     "name": "stderr",
     "output_type": "stream",
     "text": [
      "2022-03-20 15:51:20,090\tERROR -- MainProcess 3843085982.py:17 -- division by zero error occured, details in below\n",
      "Traceback (most recent call last):\n",
      "  File \"/var/folders/9k/g_dyhr955x364hgp3rn4c7s40000gn/T/ipykernel_21268/3843085982.py\", line 15, in <module>\n",
      "    result = 5 / 0\n",
      "ZeroDivisionError: division by zero\n"
     ]
    },
    {
     "name": "stdout",
     "output_type": "stream",
     "text": [
      "You will see this line after full error details\n"
     ]
    }
   ],
   "source": [
    "# logging_example.py isimli bir Python dosyası oluşturalım.\n",
    "import logging\n",
    "\n",
    "logger = logging.getLogger()\n",
    "console = logging.StreamHandler()\n",
    "\n",
    "format_str = '%(asctime)s\\t%(levelname)s -- %(processName)s %(filename)s:%(lineno)s -- %(message)s'\n",
    "console.setFormatter(logging.Formatter(format_str))\n",
    "\n",
    "logger.addHandler(console)\n",
    "\n",
    "logger.setLevel(logging.ERROR) \n",
    "try:\n",
    "    logger.debug(\"Process is started\")\n",
    "    result = 5 / 0\n",
    "except Exception as e:\n",
    "    logger.error(\"{} error occured, details in below\".format(e), exc_info = True)\n",
    "    print(\"You will see this line after full error details\")"
   ]
  },
  {
   "cell_type": "markdown",
   "id": "bcc9959d",
   "metadata": {},
   "source": [
    "Kodumuz beklediğimiz gibi önce **logger**'ın çıktısını, sonra da **print** fonksiyonunun çıktısını ekrana yazdırdı.\n",
    "\n",
    "Önce **getLogger** metoduyla **logging** kütüphanesinden **logger** değişkenimizi oluşturduk. Ardından çıktılarımızı konsola yazdırmak için **console** adıyla bir **handler** değişkeni oluşturduk. **StreamHandler** metodu, kayıtları **print**'in yaptığına benzer şekilde **stdout** aracılığıyla konsola gönderir.\n",
    "\n",
    "**format_str** değişkeni ile birlikte oluşturmak istediğimiz hata mesajının formatını belirliyoruz. Bir önceki örneğimizden farklı olarak bu kez parametre sayısını artırdık ve 6 parametreyi görmek istediğimizi belirttik. Daha sonra **Formatter** metodu yardımıyla kaydımızı bu formata göre biçimlendirip bunu **setFormatter** metodunun yardımıyla konsola yazdırmak istediğimizi belirtiyoruz. Ardından **console** değişkenimizi de **logger**'a bir **handler** yardımıyla ekliyoruz. \n",
    "\n",
    "Görmek istediğimiz kayıt seviyesini **setLevel** metodu yardımıyla ayarlıyoruz. Bir önceki örnekte direkt olarak **basicConfig**'in içinde vermiştik. Alternatif olarak bu şekilde de ayarlayabiliriz.\n",
    "\n",
    "Kodumuzu çalıştırdığımızda, görmek istediğimiz detayları eksiksiz bir şekilde konsol çıktısı olarak görüyoruz."
   ]
  },
  {
   "cell_type": "markdown",
   "id": "7afe4b6c",
   "metadata": {},
   "source": [
    "Son olarak, özellikle Machine Learning serisinde sıkça yaptığım gibi, **logging** kütüphanesinin dokümantasyon linkini paylaşmak istiyorum. Python geliştiricileri için, dokümantasyonun oldukça güzel yapıldığını ve okuyup uygulamanın çok geliştirdiğini belirtmekte fayda var: https://docs.python.org/3/howto/logging-cookbook.html#filters-contextual\n",
    "\n",
    "Sonraki yazılarımızda görüşmek üzere."
   ]
  },
  {
   "cell_type": "code",
   "execution_count": null,
   "id": "5c859b67",
   "metadata": {},
   "outputs": [],
   "source": []
  }
 ],
 "metadata": {
  "kernelspec": {
   "display_name": "Python 3 (ipykernel)",
   "language": "python",
   "name": "python3"
  },
  "language_info": {
   "codemirror_mode": {
    "name": "ipython",
    "version": 3
   },
   "file_extension": ".py",
   "mimetype": "text/x-python",
   "name": "python",
   "nbconvert_exporter": "python",
   "pygments_lexer": "ipython3",
   "version": "3.9.9"
  }
 },
 "nbformat": 4,
 "nbformat_minor": 5
}
